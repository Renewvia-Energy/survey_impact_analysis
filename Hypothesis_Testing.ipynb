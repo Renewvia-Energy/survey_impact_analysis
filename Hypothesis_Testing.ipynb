{
 "cells": [
  {
   "cell_type": "code",
   "execution_count": 15,
   "id": "fceaf524-27be-4bf9-a481-764d9c1a14b7",
   "metadata": {
    "tags": []
   },
   "outputs": [
    {
     "name": "stderr",
     "output_type": "stream",
     "text": [
      "\u001b[32m\u001b[1m Activating\u001b[22m\u001b[39m new environment at `~/Renewvia/survey_impact_analysis/Project.toml`\n",
      "\u001b[36m\u001b[1m[ \u001b[22m\u001b[39m\u001b[36m\u001b[1mInfo: \u001b[22m\u001b[39mPrecompiling HypothesisTests [09f84164-cd44-5f33-b23f-e6b0d136a0d5]\n"
     ]
    }
   ],
   "source": [
    "# import Pkg; Pkg.add(\"\")\n",
    "import Pkg\n",
    "Pkg.activate(\".\")\n",
    "using CSV\n",
    "using DataFrames\n",
    "using Statistics\n",
    "using HypothesisTests"
   ]
  },
  {
   "cell_type": "code",
   "execution_count": 12,
   "id": "b529c6c3-8ef9-4fc3-b3ff-9863377b6f0e",
   "metadata": {
    "tags": []
   },
   "outputs": [],
   "source": [
    "begin\n",
    "    # download and load\n",
    "    data = CSV.read(\"datasets_clean/household_post_survey_encoded.csv\", DataFrame) \n",
    "    \n",
    "    # Allow female_schooling_change col to have missing values\n",
    "    allowmissing!(data, :female_schooling_change)\n",
    "    \n",
    "    # Convert \"NA\" to missing\n",
    "    replace!(data.female_schooling_change, \"NA\" => missing) \n",
    "    \n",
    "    # # Typecast into Float64?\n",
    "    # data[!, :female_schooling_change] .= passmissing(parse).(Float64, \n",
    "    #                                                         (data[!, :female_schooling_change])) \n",
    "end;"
   ]
  },
  {
   "cell_type": "code",
   "execution_count": 16,
   "id": "c58fcdd7-f739-4139-b21b-0d433403b811",
   "metadata": {
    "tags": []
   },
   "outputs": [
    {
     "data": {
      "text/html": [
       "<div class=\"data-frame\"><p>10 rows × 54 columns (omitted printing of 49 columns)</p><table class=\"data-frame\"><thead><tr><th></th><th>Column1</th><th>renewvia_id</th><th>interviewed_before_0</th><th>interviewed_before_1</th><th>occupation_change_0</th></tr><tr><th></th><th title=\"Int64\">Int64</th><th title=\"Union{Missing, String15}\">String15?</th><th title=\"Union{Missing, Float64}\">Float64?</th><th title=\"Union{Missing, Float64}\">Float64?</th><th title=\"Union{Missing, Float64}\">Float64?</th></tr></thead><tbody><tr><th>1</th><td>0</td><td><em>missing</em></td><td><em>missing</em></td><td><em>missing</em></td><td><em>missing</em></td></tr><tr><th>2</th><td>1</td><td>521168.0</td><td>0.0</td><td>1.0</td><td>0.0</td></tr><tr><th>3</th><td>2</td><td>521039.0</td><td>1.0</td><td>0.0</td><td>1.0</td></tr><tr><th>4</th><td>3</td><td>521055.0</td><td>0.0</td><td>1.0</td><td>0.0</td></tr><tr><th>5</th><td>4</td><td>521090.0</td><td>0.0</td><td>1.0</td><td>0.0</td></tr><tr><th>6</th><td>5</td><td>521091.0</td><td>0.0</td><td>1.0</td><td>0.0</td></tr><tr><th>7</th><td>6</td><td>521267.0</td><td>0.0</td><td>1.0</td><td>1.0</td></tr><tr><th>8</th><td>7</td><td>521272.0</td><td>0.0</td><td>1.0</td><td>0.0</td></tr><tr><th>9</th><td>8</td><td>521082.0</td><td>0.0</td><td>1.0</td><td>0.0</td></tr><tr><th>10</th><td>9</td><td>521093.0</td><td>1.0</td><td>0.0</td><td>0.0</td></tr></tbody></table></div>"
      ],
      "text/latex": [
       "\\begin{tabular}{r|cccccc}\n",
       "\t& Column1 & renewvia\\_id & interviewed\\_before\\_0 & interviewed\\_before\\_1 & occupation\\_change\\_0 & \\\\\n",
       "\t\\hline\n",
       "\t& Int64 & String15? & Float64? & Float64? & Float64? & \\\\\n",
       "\t\\hline\n",
       "\t1 & 0 & \\emph{missing} & \\emph{missing} & \\emph{missing} & \\emph{missing} & $\\dots$ \\\\\n",
       "\t2 & 1 & 521168.0 & 0.0 & 1.0 & 0.0 & $\\dots$ \\\\\n",
       "\t3 & 2 & 521039.0 & 1.0 & 0.0 & 1.0 & $\\dots$ \\\\\n",
       "\t4 & 3 & 521055.0 & 0.0 & 1.0 & 0.0 & $\\dots$ \\\\\n",
       "\t5 & 4 & 521090.0 & 0.0 & 1.0 & 0.0 & $\\dots$ \\\\\n",
       "\t6 & 5 & 521091.0 & 0.0 & 1.0 & 0.0 & $\\dots$ \\\\\n",
       "\t7 & 6 & 521267.0 & 0.0 & 1.0 & 1.0 & $\\dots$ \\\\\n",
       "\t8 & 7 & 521272.0 & 0.0 & 1.0 & 0.0 & $\\dots$ \\\\\n",
       "\t9 & 8 & 521082.0 & 0.0 & 1.0 & 0.0 & $\\dots$ \\\\\n",
       "\t10 & 9 & 521093.0 & 1.0 & 0.0 & 0.0 & $\\dots$ \\\\\n",
       "\\end{tabular}\n"
      ],
      "text/plain": [
       "\u001b[1m10×54 DataFrame\u001b[0m\n",
       "\u001b[1m Row \u001b[0m│\u001b[1m Column1 \u001b[0m\u001b[1m renewvia_id \u001b[0m\u001b[1m interviewed_before_0 \u001b[0m\u001b[1m interviewed_before_1 \u001b[0m\u001b[1m occup\u001b[0m ⋯\n",
       "\u001b[1m     \u001b[0m│\u001b[90m Int64   \u001b[0m\u001b[90m String15?   \u001b[0m\u001b[90m Float64?             \u001b[0m\u001b[90m Float64?             \u001b[0m\u001b[90m Float\u001b[0m ⋯\n",
       "─────┼──────────────────────────────────────────────────────────────────────────\n",
       "   1 │       0 \u001b[90m missing     \u001b[0m\u001b[90m            missing   \u001b[0m\u001b[90m            missing   \u001b[0m\u001b[90m      \u001b[0m ⋯\n",
       "   2 │       1  521168.0                      0.0                   1.0\n",
       "   3 │       2  521039.0                      1.0                   0.0\n",
       "   4 │       3  521055.0                      0.0                   1.0\n",
       "   5 │       4  521090.0                      0.0                   1.0        ⋯\n",
       "   6 │       5  521091.0                      0.0                   1.0\n",
       "   7 │       6  521267.0                      0.0                   1.0\n",
       "   8 │       7  521272.0                      0.0                   1.0\n",
       "   9 │       8  521082.0                      0.0                   1.0        ⋯\n",
       "  10 │       9  521093.0                      1.0                   0.0\n",
       "\u001b[36m                                                              50 columns omitted\u001b[0m"
      ]
     },
     "execution_count": 16,
     "metadata": {},
     "output_type": "execute_result"
    }
   ],
   "source": [
    "first(data, 10)"
   ]
  },
  {
   "cell_type": "markdown",
   "id": "a466d3b9-984e-45f2-9011-b4d976b2d070",
   "metadata": {},
   "source": [
    "# Gender Equality\n",
    "1. School Attendance per gender\n",
    "2. Employment (Jobs/Business) per Gender"
   ]
  },
  {
   "cell_type": "markdown",
   "id": "b3576a4f-fe09-4884-9fe5-9bf661dd9816",
   "metadata": {},
   "source": [
    "## School Attendance per gender\n",
    "\n",
    "**Data Pre-processing**: We captured directionality of changes in the variable *'female_schooling_change'* and *'female_schooling_change'* with the following encoding :\n",
    "'no_its_the_same' = 0, 'yes_its_increased' = 1, 'yes_its_decreased' = -1\n",
    "\n",
    "**Statistical Test**: One-sample t-Test"
   ]
  },
  {
   "cell_type": "markdown",
   "id": "99838a95-7c53-4acf-b41e-af3706d02830",
   "metadata": {},
   "source": [
    "**Hypothesis**\n",
    "* $H_{0}$: There were no changes in school attendance for female children\n",
    "* $H_{1}$: There were a change in school attendance for female children"
   ]
  },
  {
   "cell_type": "code",
   "execution_count": 36,
   "id": "e06c4bd6-c548-4368-b75b-b52e3d445b38",
   "metadata": {},
   "outputs": [
    {
     "data": {
      "text/plain": [
       "One sample t-test\n",
       "-----------------\n",
       "Population details:\n",
       "    parameter of interest:   Mean\n",
       "    value under h_0:         0\n",
       "    point estimate:          0.158\n",
       "    95% confidence interval: (0.1329, 0.1831)\n",
       "\n",
       "Test summary:\n",
       "    outcome with 95% confidence: reject h_0\n",
       "    two-sided p-value:           <1e-32\n",
       "\n",
       "Details:\n",
       "    number of observations:   1000\n",
       "    t-statistic:              12.367960092940569\n",
       "    degrees of freedom:       999\n",
       "    empirical standard error: 0.012774944195541498\n"
      ]
     },
     "execution_count": 36,
     "metadata": {},
     "output_type": "execute_result"
    }
   ],
   "source": [
    "onesamplettest = let \n",
    "    # Fetch a random sample of BMI data for women in the year 1985 and 2017\n",
    "    x1 = data |>\n",
    "    x -> data[!, :female_schooling_change] |> skipmissing |> collect |> x->rand(x, 1000)\n",
    "    OneSampleTTest(x1, 0)\n",
    "end"
   ]
  },
  {
   "cell_type": "markdown",
   "id": "dfa68c36-ce65-4fc0-a8d7-4c5a3a1bae7f",
   "metadata": {},
   "source": [
    "**Hypothesis**\n",
    "* $H_{0}$: There were no changes in school attendance for male children\n",
    "* $H_{1}$: There were a change in school attendance for male children"
   ]
  },
  {
   "cell_type": "code",
   "execution_count": 37,
   "id": "5563f2e6-c743-4172-a064-2593af7047d9",
   "metadata": {
    "tags": []
   },
   "outputs": [
    {
     "data": {
      "text/plain": [
       "One sample t-test\n",
       "-----------------\n",
       "Population details:\n",
       "    parameter of interest:   Mean\n",
       "    value under h_0:         0\n",
       "    point estimate:          0.182\n",
       "    95% confidence interval: (0.156, 0.208)\n",
       "\n",
       "Test summary:\n",
       "    outcome with 95% confidence: reject h_0\n",
       "    two-sided p-value:           <1e-38\n",
       "\n",
       "Details:\n",
       "    number of observations:   1000\n",
       "    t-statistic:              13.755900526186982\n",
       "    degrees of freedom:       999\n",
       "    empirical standard error: 0.013230685962982085\n"
      ]
     },
     "execution_count": 37,
     "metadata": {},
     "output_type": "execute_result"
    }
   ],
   "source": [
    "onesamplettest = let \n",
    "    # Fetch a random sample of BMI data for women in the year 1985 and 2017\n",
    "    x1 = data |>\n",
    "    x -> data[!, :male_schooling_change] |> skipmissing |> collect |> x->rand(x, 1000)\n",
    "    OneSampleTTest(x1, 0)\n",
    "end"
   ]
  },
  {
   "cell_type": "markdown",
   "id": "0707b811-7466-4c60-81bf-97c39a9ae8e3",
   "metadata": {},
   "source": [
    "**Result Interpretation**: In either instance, the p-value was small enough to reject the null hypothesis thus, we may assume that there was a significant change in the schooling of both male and female children."
   ]
  },
  {
   "cell_type": "markdown",
   "id": "5c455d86-d9b6-4045-8519-d8c29ac3c695",
   "metadata": {},
   "source": [
    "## School Attendance per gender\n",
    "\n",
    "**Data Pre-processing**: We captured directionality of changes in the variable *'female_schooling_change'* and *'female_schooling_change'* with the following encoding :\n",
    "'no_its_the_same' = 0, 'yes_its_increased' = 1, 'yes_its_decreased' = -1\n",
    "\n",
    "**Statistical Test**: Two sample Paired t-Test"
   ]
  }
 ],
 "metadata": {
  "kernelspec": {
   "display_name": "Julia 1.5.2",
   "language": "julia",
   "name": "julia-1.5"
  },
  "language_info": {
   "file_extension": ".jl",
   "mimetype": "application/julia",
   "name": "julia",
   "version": "1.5.2"
  }
 },
 "nbformat": 4,
 "nbformat_minor": 5
}
