{
 "cells": [
  {
   "cell_type": "code",
   "execution_count": 1,
   "id": "bfab3fba-2cc2-46f1-b112-82c05244b835",
   "metadata": {
    "tags": []
   },
   "outputs": [],
   "source": [
    "import pandas as pd\n",
    "import numpy as np\n",
    "import json\n",
    "import collections\n",
    "import re"
   ]
  },
  {
   "cell_type": "code",
   "execution_count": 2,
   "id": "1bcbd9b7-55a2-4010-9f69-a57549a7f54d",
   "metadata": {
    "tags": []
   },
   "outputs": [],
   "source": [
    "# Pulled SQL data for each customer id and their tariffs\n",
    "tariffs = pd.read_csv(\"customers_tariffs.csv\")"
   ]
  },
  {
   "cell_type": "code",
   "execution_count": 4,
   "id": "4bec80ab-7f87-499f-9aec-d291bf0e9080",
   "metadata": {
    "tags": []
   },
   "outputs": [],
   "source": [
    "file_names = {\n",
    "    \"ci_post_msform\": \"MS Form - POST Connection - COMMERCIAL & INSTITUTION Connection Impact Survey.xlsx\",\n",
    "    \"ci_post_commcare\": \"Commcare - POST Connection - COMMERCIAL & INSTITUTION Connectin Impact Survey.xlsx\",\n",
    "    \"hs_post_msform\": \"MS Form - POST Connection HOUSEHOLD.xlsx\",\n",
    "    \"hs_post_commcare\": \"Commcare POST Connection HOUSEHOLD.xlsx\",\n",
    "    \"initial_commcare\": \"Commcare INITIAL Survey updated w Renewvia Numbers - Copy.xlsx\",\n",
    "    \"initial_msform\": \"MS Form - INITIAL SURVEY Updated w meter numbers 230216.xlsx\"\n",
    "    }\n",
    "\n",
    "datasets = {\n",
    "\"hs_post\": [],\n",
    "\"ci_post\": [],\n",
    "\"initial\": [],\n",
    "}\n",
    "\n",
    "for name, file in file_names.items():\n",
    "    df = pd.read_excel(\"datasets_raw/\"+file)\n",
    "    # df = datasets[\"hs_post_msform\"]\n",
    "    cols = list(df.columns)\n",
    "    cols_clean = [col.replace('\\xa0', '') if '\\xa0' in col else col for col in cols]\n",
    "\n",
    "    # mapping missing or mistyped answers\n",
    "    with open('col_answers_mapping.json', 'r') as f:\n",
    "        col_answers_map = json.load(f)\n",
    "\n",
    "    answers = col_answers_map['col_answers_map']\n",
    "    n_col = len(answers)\n",
    "\n",
    "    for i in range(0, n_col):\n",
    "        old = answers[i]['old_name']\n",
    "        if old in cols_clean:\n",
    "            new = answers[i]['new_name']\n",
    "            mapping = answers[i]['mapping']\n",
    "            df = df.rename(columns={old:new})\n",
    "            df[new].replace(mapping, inplace=True)\n",
    "            special_cases = [\"girls_age\", \"boys_age\", \n",
    "                             \"minigrid_signup_primary_reason\",\n",
    "                             \"appliances_type\"\n",
    "                             \"appliances_type_addition\"]\n",
    "            \n",
    "            if new in special_cases:\n",
    "                def replace_map(value, str_map):\n",
    "                    if type(value) == str and \"choice\" in value:\n",
    "                        value = value.replace(\" \", \";\")\n",
    "                        parts, replaced = value.split(\";\"), []\n",
    "                        cases = [ \"cell phone charge\", \"cell phone charger\",\n",
    "                                \"cell_phone_charge\"]\n",
    "                        for sub in parts:\n",
    "                            sub = sub.lower()\n",
    "                            if sub == \"older than 16\":\n",
    "                                replaced.append(\"older_than_16\")\n",
    "                            elif sub in cases:\n",
    "                                replaced.append(\"cell_phone_charger\")\n",
    "                            else:\n",
    "                                replaced.append(str_map[sub])\n",
    "                        return \";\".join(replaced)\n",
    "                    else:\n",
    "                        return value\n",
    "                        \n",
    "                df[new] = df[new].map(lambda x: replace_map(x, mapping))\n",
    "            # elif new == :\n",
    "                \n",
    "        else:\n",
    "            continue\n",
    "\n",
    "    missing = ['         ', '    ', '   ',\n",
    "               '******', 'months', 'nan']\n",
    "    df['renewvia_id'] = df['renewvia_id'].apply(lambda x: str(x))\n",
    "    df['renewvia_id'].replace(missing, np.nan, inplace=True)\n",
    "    df['end'] = pd.to_datetime(df['end'])\n",
    "    df['end_date'] = df['end'].dt.date\n",
    "    df_merged = df.merge(tariffs, left_on='renewvia_id',\n",
    "                        right_on='customerAccountNumber', how='left')\n",
    "    \n",
    "    if 'hs_post' in name:\n",
    "        datasets[\"hs_post\"].append(df_merged)\n",
    "    elif 'ci_post' in name:\n",
    "        datasets[\"ci_post\"].append(df_merged)\n",
    "        \n",
    "    elif 'initial' in name:\n",
    "        # cond_0 = df_merged['status'] == 'Pre-Connection'\n",
    "        # cond_1 = df_merged['status'] == 'Post-Connection'\n",
    "        # cond_2 = df_merged['tariff'] == 'Residential'\n",
    "        # cond_3 = df_merged['tariff'] == 'Commercial'\n",
    "        datasets[\"initial\"].append(df_merged)\n",
    "#         datasets[\"ci_pre\"].append(df_merged[cond_0 & cond_3])\n",
    "#         datasets[\"hs_post_initial\"].append(df_merged[cond_1 & cond_2])\n",
    "#         datasets[\"ci_post_initial\"].append(df_merged[cond_1 & cond_3])\n",
    "        \n",
    "for name, data_list in datasets.items():\n",
    "    df = pd.concat(data_list, axis=0)\n",
    "    df.to_csv(\"datasets_annotated/\"+name+\"_annotated.csv\")"
   ]
  }
 ],
 "metadata": {
  "kernelspec": {
   "display_name": "Python 3 (ipykernel)",
   "language": "python",
   "name": "python3"
  },
  "language_info": {
   "codemirror_mode": {
    "name": "ipython",
    "version": 3
   },
   "file_extension": ".py",
   "mimetype": "text/x-python",
   "name": "python",
   "nbconvert_exporter": "python",
   "pygments_lexer": "ipython3",
   "version": "3.11.5"
  }
 },
 "nbformat": 4,
 "nbformat_minor": 5
}
