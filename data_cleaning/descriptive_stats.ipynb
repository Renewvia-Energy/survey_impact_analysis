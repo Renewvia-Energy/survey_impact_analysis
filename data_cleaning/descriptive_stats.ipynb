{
 "cells": [
  {
   "cell_type": "code",
   "execution_count": 4,
   "id": "b105d041-a79d-4a2c-945c-9073e599068d",
   "metadata": {},
   "outputs": [],
   "source": [
    "import pandas as pd\n",
    "import numpy as np\n",
    "\n",
    "import matplotlib.pyplot as plt\n",
    "plt.style.use('ggplot')\n",
    "import seaborn as sns\n",
    "\n",
    "import math\n",
    "import statistics\n",
    "import numpy as np\n",
    "import scipy.stats\n",
    "import pandas as pd"
   ]
  },
  {
   "cell_type": "code",
   "execution_count": 5,
   "id": "194c9da6-065f-452f-b7cc-f43fcf1d0adf",
   "metadata": {},
   "outputs": [],
   "source": [
    "def overview(df, file_name):\n",
    "    # Shape of data: No. of rows and columns\n",
    "    no_rows, no_cols = df.shape\n",
    "\n",
    "    # Check for missing values\n",
    "    null_values = df.isnull().sum().sum()\n",
    "\n",
    "    # No. of duplicates values\n",
    "    duplicates = df[df.duplicated()].shape[0]\n",
    "    df.drop_duplicates(inplace=True)\n",
    "\n",
    "\n",
    "    # Diagnostics results\n",
    "    data_check = \"\"\"\n",
    "    - The dataset {0} has {1} rows and {2} columns\n",
    "    - There are {3} null/na values and {4} duplicate rows which were removed. \n",
    "    \"\"\" \n",
    "\n",
    "    print(data_check.format(file_name, no_rows, no_cols,\n",
    "                            null_values, duplicates))\n",
    "    \n",
    "    \n",
    "#     print(\"All duplicated rows were removed\")\n",
    "    \n",
    "def loading_datasets(fold, file_names):\n",
    "    # Loading the datasets\n",
    "    datasets = []\n",
    "    for name in file_names:\n",
    "        data = pd.read_csv(fold + name)\n",
    "        # Remove those with no renewvia_id\n",
    "        data.dropna(subset=['renewvia_id'], inplace=True)\n",
    "        if 'Unnamed: 0' in data.columns:\n",
    "            data.drop('Unnamed: 0', axis=1, inplace=True)\n",
    "\n",
    "        overview(data, name)\n",
    "        datasets.append(data)\n",
    "        \n",
    "    return datasets"
   ]
  },
  {
   "cell_type": "code",
   "execution_count": 1,
   "id": "cc5b517a-764d-4142-89c9-f7f8e215da6b",
   "metadata": {},
   "outputs": [],
   "source": [
    "# surveys_clean = loading_datasets(fold='data_clean/',\n",
    "#                                  file_names = ['household_pre_survey_clean.csv', \n",
    "#                                               'household_post_survey_clean.csv',\n",
    "#                                               'commercial_post_survey_clean.csv'])"
   ]
  },
  {
   "cell_type": "code",
   "execution_count": null,
   "id": "a89e62cc-8a21-49dd-9211-054074196588",
   "metadata": {},
   "outputs": [],
   "source": [
    "def make_autopct(values):\n",
    "    def my_autopct(pct):\n",
    "        total = sum(values)\n",
    "        val = int(round(pct*total/100.0))\n",
    "        return '{v:d} ({p:.2f}%)'.format(p=pct,v=val)\n",
    "    return my_autopct\n",
    "\n",
    "# Has there been a change in the number of females in your household \n",
    "# who attend school full time since connection to minigrid power?\n",
    "\n",
    "# Has there been a change in the number of males in your household \n",
    "# who attend school FULL TIME since connection to minigrid power?\n",
    "\n",
    "cols = ['female_schooling_change', 'male_schooling_change']\n",
    "var_freq = {}\n",
    "for col in cols:\n",
    "    labels = hs_post[col].value_counts(dropna=True).index\n",
    "    vals = hs_post[col].value_counts(dropna=True).values\n",
    "    var_freq[col] = [vals, labels]\n",
    "\n",
    "# # Proportions by seat type\n",
    "fig, (ax1, ax2) = plt.subplots(1, 2, figsize=(12, 10))\n",
    "fig.suptitle(\"Change in School Attendance Per Gender\", \n",
    "             y=0.8, fontsize=30, fontweight='bold'\n",
    "            )\n",
    "ax1.pie(var_freq[cols[0]][0], labels=var_freq[cols[0]][1], autopct=make_autopct(vals))\n",
    "ax1.set_title('Female Children')\n",
    "ax2.pie(var_freq[cols[1]][0], labels=var_freq[cols[1]][1], autopct=make_autopct(vals))\n",
    "ax2.set_title(\"Male Children\")\n",
    "plt.show()"
   ]
  }
 ],
 "metadata": {
  "kernelspec": {
   "display_name": "Python 3 (ipykernel)",
   "language": "python",
   "name": "python3"
  },
  "language_info": {
   "codemirror_mode": {
    "name": "ipython",
    "version": 3
   },
   "file_extension": ".py",
   "mimetype": "text/x-python",
   "name": "python",
   "nbconvert_exporter": "python",
   "pygments_lexer": "ipython3",
   "version": "3.11.5"
  }
 },
 "nbformat": 4,
 "nbformat_minor": 5
}
