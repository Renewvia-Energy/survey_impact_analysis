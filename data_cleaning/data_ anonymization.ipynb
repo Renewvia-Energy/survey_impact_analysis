{
 "cells": [
  {
   "cell_type": "code",
   "execution_count": 10,
   "id": "712a33ee-4737-4405-9bce-d537903232c2",
   "metadata": {
    "tags": []
   },
   "outputs": [],
   "source": [
    "import pandas as pd\n",
    "import numpy as np\n",
    "import uuid"
   ]
  },
  {
   "cell_type": "code",
   "execution_count": 16,
   "id": "eb96aa47-ccc4-4658-b09d-000bddb6fe9b",
   "metadata": {
    "tags": []
   },
   "outputs": [],
   "source": [
    "# hs_pre['renewvia_id'] = hs_pre['renewvia_id'].map(lambda x: \n",
    "#                                                     x.replace(\".0\", \"\").upper())\n",
    "hs_pre = pd.read_csv(\"initial_pre.csv\")\n",
    "hs_post = pd.read_csv(\"post_clean.csv\")\n",
    "paired = pd.read_csv(\"paired_rect_enc.csv\")\n",
    "ci_post = pd.read_csv(\"ci_clean.csv\")\n",
    "\n",
    "#print(len(paired))\n",
    "\n",
    "hs_pre[\"id_anonymized\"] = [uuid.uuid4().hex for x in range(len(hs_pre))]\n",
    "hs_pre = hs_pre[hs_pre['status'] == \"pre_connection\"].copy()\n",
    "hs_pre.to_csv(\"household_pre_survey_anonymized.csv\")\n",
    "\n",
    "hs_post[\"id_anonymized\"] = [uuid.uuid4().hex for x in range(len(hs_post))]\n",
    "hs_post.to_csv(\"household_post_survey_anonymized.csv\")\n",
    "\n",
    "paired[\"id_anonymized\"] = [uuid.uuid4().hex for x in range(len(paired))]\n",
    "paired.to_csv(\"paired_anonymized.csv\")\n",
    "\n",
    "ci_post[\"id_anonymized\"] = [uuid.uuid4().hex for x in range(len(ci_post))]\n",
    "ci_post.to_csv(\"ci_post_survey_anonymized.csv\")\n",
    "\n",
    "# for data in datasets:"
   ]
  },
  {
   "cell_type": "code",
   "execution_count": 3,
   "id": "096d46ad-1771-403a-8b7e-6972ac8f4284",
   "metadata": {},
   "outputs": [],
   "source": [
    "# pre_append_cols = [ \n",
    "#     'renewvia_id',\n",
    "#     'girls_age',\n",
    "#  'boys_age',\n",
    "#  'girls_unschooled_reasons_explain',\n",
    "#  'boys_unschooled_reasons_explain',\n",
    "#  'minigrid_signup_primary_reason',\n",
    "#  'minigrid_signup_secondary_reason',\n",
    "#  'power_current_sources_explain',\n",
    "#  'power_primary_source_explain',\n",
    "#  'appliances_explain',\n",
    "#  'appliances_addition_explain',\n",
    "#  'cooking_energy_sources_explain',\n",
    "#  'applicances_charging_sources_explain',\n",
    "#  'feel_unsafe_reasons_explain',\n",
    "#  'phone_charge_location_explain',\n",
    "#  'other_household_activities',\n",
    "#  'clinic_open_hours',\n",
    "#  'occupation_primary_explain',\n",
    "#  'occupation_secondary_explain']\n",
    "# hs_pre_annotated = pd.read_csv(\"datasets_annotated/initial_annotated.csv\", usecols=pre_append_cols)\n",
    "# hs_pre_clean = pd.read_csv(\"datasets_clean/initial_clean.csv\")\n",
    "# # hs_pre_clean.merge(hs_pre_annotated, how='left', on='renewvia_id')\n",
    "# # cols_clean = list(hs_pre_clean.columns)\n",
    "# # all_cols = list(hs_pre_annotated.columns)\n",
    "\n",
    "# # for col in all_cols:\n",
    "# #     if col in cols_clean:\n",
    "# #         continue\n",
    "# #     else:\n",
    "# #         pre_append_cols.append(col)\n",
    "        \n",
    "# # pre_append_cols\n",
    "# hs_pre_clean"
   ]
  },
  {
   "cell_type": "code",
   "execution_count": 4,
   "id": "914bf8ca-4727-4059-9c8a-5564c88fc5da",
   "metadata": {
    "tags": []
   },
   "outputs": [],
   "source": [
    "# post_append_cols =['occupation_change_explain',\n",
    "#  'household_income_change_explain',\n",
    "#  'household_headcount_change_explain',\n",
    "#  'school_performance_change_explain',\n",
    "#  'girls_unschooled_reasons_explain',\n",
    "#  'boys_unschooled_reasons_explain',\n",
    "#  'power_primary_source_explain',\n",
    "#  'power_current_sources_explain',\n",
    "#  'appliances_explain',\n",
    "#  'appliances_addition_explain',\n",
    "#  'cooking_energy_sources_explain',\n",
    "#  'applicances_charging_sources_explain',\n",
    "#  'feel_unsafe_reasons_explain',\n",
    "#  'phone_charge_location_explain',\n",
    "#  'clinic_electricity_access_minigrid',\n",
    "#  'clinic_open_hours',\n",
    "#  'minigrid_benefits',\n",
    "#  'minigrid_access_life_improvement_explain',\n",
    "#  'minigrid_access_life_family_impact']\n",
    "# hs_post_annotated = pd.read_csv(\"datasets_annotated/post_annotated.csv\", usecols=post_append_cols)\n",
    "# hs_post_clean = pd.read_csv(\"datasets_clean/post_clean.csv\")\n",
    "# hs_post_clean.merge(hs_pre_annotated, how='left', on='renewvia_id')\n",
    "# # cols_clean = list(hs_post_clean.columns)\n",
    "# # all_cols = list(hs_post_annotated.columns)\n",
    "# # post_append_cols = []\n",
    "# # for col in all_cols:\n",
    "# #     if col in cols_clean:\n",
    "# #         continue\n",
    "# #     else:\n",
    "# #         post_append_cols.append(col)\n",
    "\n",
    "# # post_append_cols"
   ]
  },
  {
   "cell_type": "code",
   "execution_count": null,
   "id": "6975c349-9615-4e60-a351-d2e6428b1269",
   "metadata": {
    "tags": []
   },
   "outputs": [],
   "source": [
    "data = hs_post.copy()\n",
    "data = data.apply(lambda x: x.astype(str).str.lower())\n",
    "# Get identified customers only\n",
    "#data = data[~data['renewvia_id'].isin([\"no meter\", \"nan\", \"\"])]\n",
    "data[\"community\"] = (data[\"nigeria_community\"].astype(str) + \n",
    "                   data[\"kenya_community\"].astype(str)).apply(lambda x: x.replace(\"nan\", \"\"))\n",
    "\n",
    "#Household Income\n",
    "data[\"avg_household_income\"] = data[\"avg_household_income\"].str.extract('([-+]?\\d*,?\\d+)')\n",
    "data[\"avg_household_income\"] = data[\"avg_household_income\"].str.replace(\",\", \"\")\n",
    "data[\"avg_household_income\"] = pd.to_numeric(data[\"avg_household_income\"])\n",
    "\n",
    "# Remove duplicates\n",
    "df = data.copy()\n",
    "df = df.sort_values('avg_household_income', ascending=False).drop_duplicates('renewvia_id').sort_index()\n",
    "df['renewvia_id'] = df['renewvia_id'].map(lambda x: x.replace(\".0\", \"\").upper())\n",
    "print(df.shape)\n",
    "name = \"Turkana Site \"\n",
    "coms = list(df[\"community\"].unique())\n",
    "coms.remove(\"\")\n",
    "anonymous = {\"community\": [], \"communnity_anom\":[]}\n",
    "for idx, community in enumerate(coms):\n",
    "    anonymous[\"community\"].append(community)\n",
    "    anonymous[\"communnity_anom\"].append(name+str(idx+1))\n",
    "anonymous \n",
    "coms_anom_df = pd.DataFrame(anonymous)\n",
    "df = df.merge(coms_anom_df, how=\"left\", on=\"community\")\n",
    "df.to_csv(\"household_post_survey_anonymized.csv\")"
   ]
  },
  {
   "cell_type": "code",
   "execution_count": 6,
   "id": "11bcf2e2-5581-40a5-b70f-3dbb2f45926d",
   "metadata": {
    "tags": []
   },
   "outputs": [
    {
     "name": "stdout",
     "output_type": "stream",
     "text": [
      "(586, 92)\n"
     ]
    }
   ],
   "source": [
    "data = hs_pre.copy()\n",
    "data = data.apply(lambda x: x.astype(str).str.lower())\n",
    "data = data[data['status'] == \"pre-connection\"].copy()\n",
    "# Get identified customers only\n",
    "#data = data[~data['renewvia_id'].isin([\"no meter\", \"nan\", \"\"])]\n",
    "data[\"community\"] = (data[\"nigeria_community\"].astype(str) + \n",
    "                   data[\"kenya_community\"].astype(str)).apply(lambda x: x.replace(\"nan\", \"\"))\n",
    "\n",
    "#Household Income\n",
    "data[\"avg_household_income\"] = data[\"avg_household_income\"].str.extract('([-+]?\\d*,?\\d+)')\n",
    "data[\"avg_household_income\"] = data[\"avg_household_income\"].str.replace(\",\", \"\")\n",
    "data[\"avg_household_income\"] = pd.to_numeric(data[\"avg_household_income\"])\n",
    "\n",
    "# Remove duplicates\n",
    "df = data.copy()\n",
    "df = df.sort_values('avg_household_income', ascending=False).drop_duplicates('renewvia_id').sort_index()\n",
    "df['renewvia_id'] = df['renewvia_id'].map(lambda x: x.replace(\".0\", \"\").upper())\n",
    "print(df.shape)\n",
    "name = \"Turkana Site \"\n",
    "coms = list(df[\"community\"].unique())\n",
    "#coms.remove(np.nan)\n",
    "# anonymous = {\"community\": [], \"communnity_anom\":[]}\n",
    "# for idx, community in enumerate(coms):\n",
    "#     anonymous[\"community\"].append(community)\n",
    "#     anonymous[\"communnity_anom\"].append(name+str(idx+1))\n",
    "# anonymous \n",
    "coms_anom_df = pd.DataFrame(anonymous)\n",
    "df = df.merge(coms_anom_df, how=\"left\", on=\"community\")\n",
    "df.to_csv(\"household_pre_survey_anonymized.csv\")"
   ]
  },
  {
   "cell_type": "code",
   "execution_count": 7,
   "id": "1259bd8d-c19a-4949-b21b-afca6cef330f",
   "metadata": {
    "tags": []
   },
   "outputs": [
    {
     "name": "stdout",
     "output_type": "stream",
     "text": [
      "(470, 42)\n"
     ]
    }
   ],
   "source": [
    "data = ci_post.copy()\n",
    "data = data.apply(lambda x: x.astype(str).str.lower())\n",
    "# Get identified customers only\n",
    "#data = data[~data['renewvia_id'].isin([\"no meter\", \"nan\", \"\"])]\n",
    "data[\"community\"] = (data[\"nigeria_community\"].astype(str) + \n",
    "                   data[\"kenya_community\"].astype(str)).apply(lambda x: x.replace(\"nan\", \"\"))\n",
    "\n",
    "#Household Income\n",
    "# data[\"avg_household_income\"] = data[\"avg_household_income\"].str.extract('([-+]?\\d*,?\\d+)')\n",
    "# data[\"avg_household_income\"] = data[\"avg_household_income\"].str.replace(\",\", \"\")\n",
    "# data[\"avg_household_income\"] = pd.to_numeric(data[\"avg_household_income\"])\n",
    "\n",
    "# # Remove duplicates\n",
    "df = data.copy()\n",
    "# df = df.sort_values('avg_household_income', ascending=False).drop_duplicates('renewvia_id').sort_index()\n",
    "df['renewvia_id'] = df['renewvia_id'].map(lambda x: x.replace(\".0\", \"\").upper())\n",
    "print(df.shape)\n",
    "name = \"Turkana Site \"\n",
    "# #coms = list(df[\"community\"].unique())\n",
    "# # coms.remove(\"\")\n",
    "# anonymous = {\"community\": [], \"communnity_anom\":[]}\n",
    "# for idx, community in enumerate(coms):\n",
    "#     anonymous[\"community\"].append(community)\n",
    "#     anonymous[\"communnity_anom\"].append(name+str(idx+1))\n",
    "# anonymous \n",
    "coms_anom_df = pd.DataFrame(anonymous)\n",
    "df = df.merge(coms_anom_df, how=\"left\", on=\"community\")\n",
    "df.to_csv(\"ci_post_survey_anonymized.csv\")"
   ]
  },
  {
   "cell_type": "code",
   "execution_count": 96,
   "id": "e9676c66-a8ee-4714-9667-77c11dee1a94",
   "metadata": {
    "tags": []
   },
   "outputs": [],
   "source": [
    "hs_pre[\"id_anonymized\"] = [uuid.uuid4().hex for x in range(len(hs_pre))]\n",
    "#pre_ids = list(hs_pre[\"renewvia_id\"])\n",
    "ci_post[\"id_anonymized\"] = [uuid.uuid4().hex for x in range(len(ci_post))]\n",
    "hs_post[\"id_temp\"] = [uuid.uuid4().hex for x in range(len(hs_post))]\n",
    "# for data in datasets:\n",
    "#     id_new = uuid.uuid1().hex\n",
    "#     id_old = data[\"renewvia_id\"]"
   ]
  },
  {
   "cell_type": "code",
   "execution_count": 43,
   "id": "b2541397-15a6-4cd9-870a-4e1d00f58a30",
   "metadata": {
    "tags": []
   },
   "outputs": [],
   "source": [
    "# pre_ids"
   ]
  },
  {
   "cell_type": "code",
   "execution_count": 44,
   "id": "33d034b4-bd46-42e5-879e-5739908e5683",
   "metadata": {
    "tags": []
   },
   "outputs": [],
   "source": [
    "# def id_paired_correct(x):\n",
    "#     id_post = x['renewvia_id']\n",
    "#     if id_post in pre_ids:\n",
    "#         row = hs_pre[hs_pre[\"renewvia_id\"] == id_post]\n",
    "#         #print(row[\"id_anonymized\"].values[0])\n",
    "#         return row[\"id_anonymized\"].values[0]\n",
    "#     else:\n",
    "#         row = hs_post[hs_post[\"renewvia_id\"] == id_post]\n",
    "#         return row[\"id_temp\"].values[0]\n",
    "    \n",
    "# hs_post[\"id_anonymized\"] = hs_post.apply(lambda x: id_paired_correct(x), axis=1)"
   ]
  },
  {
   "cell_type": "code",
   "execution_count": 56,
   "id": "3ff5f855-2713-4e15-92e8-57e17b305e0b",
   "metadata": {
    "tags": []
   },
   "outputs": [],
   "source": [
    "# kenya = list(hs_pre[\"kenya_community\"].unique())\n",
    "# nigeria = list(hs_pre[\"nigeria_community\"].unique())\n",
    "# kenya.remove(np.nan)\n",
    "# nigeria.remove(np.nan)\n",
    "# anonymous = {}\n",
    "# communties = kenya + nigeria\n",
    "\n",
    "    \n",
    "# for data in datasets:\n",
    "#     data[\"nigeria_community_anom\"] = data.apply(lambda x: anonymous[x[\"nigeria_community\"]])\n",
    "#     data[\"kenya_community_anom\"] = data.apply(lambda x: anonymous[x[\"kenya_community\"]])\n",
    "\n",
    "    \n",
    "# hs_pre"
   ]
  }
 ],
 "metadata": {
  "kernelspec": {
   "display_name": "Python 3 (ipykernel)",
   "language": "python",
   "name": "python3"
  },
  "language_info": {
   "codemirror_mode": {
    "name": "ipython",
    "version": 3
   },
   "file_extension": ".py",
   "mimetype": "text/x-python",
   "name": "python",
   "nbconvert_exporter": "python",
   "pygments_lexer": "ipython3",
   "version": "3.11.5"
  }
 },
 "nbformat": 4,
 "nbformat_minor": 5
}
