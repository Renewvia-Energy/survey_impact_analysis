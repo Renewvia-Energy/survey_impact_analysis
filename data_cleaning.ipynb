{
 "cells": [
  {
   "cell_type": "code",
   "execution_count": 5,
   "id": "806e5ea7-8fca-4d17-8665-a82632e5d5fc",
   "metadata": {},
   "outputs": [],
   "source": [
    "import os\n",
    "import re\n",
    "import pandas as pd\n",
    "import numpy as np"
   ]
  },
  {
   "cell_type": "code",
   "execution_count": 19,
   "id": "7b7449e8-950b-4fc5-80a1-4e7bfb0bcdcc",
   "metadata": {},
   "outputs": [],
   "source": [
    "data = pd.read_excel(\"datasets_clean/Combined_Nigeria_Kenya.xlsx\")"
   ]
  },
  {
   "cell_type": "code",
   "execution_count": 20,
   "id": "78e29d43-55dc-4931-a33b-dd092dbd0ec8",
   "metadata": {
    "tags": []
   },
   "outputs": [
    {
     "name": "stdout",
     "output_type": "stream",
     "text": [
      "['Pre-Connection' 'Post-Connection']\n",
      "[nan 'Over 36 months' '6-12 months' '12-24 months' '1-3 months'\n",
      " '3-6 months' '24-36 months']\n",
      "['Nigeria' 'Kenya']\n",
      "['Akipelai' nan 'Oloibiri' 'Ozuzu' 'Ekong Anaku' 'Balep' 'Emereoke']\n",
      "[nan 'Male' 'Female']\n",
      "[nan 'Yes' 'No']\n",
      "[nan 'Regular, non self-employed' 'Seasonal, self-employed'\n",
      " 'Regular, self employed' 'Seasonal, non self-employed']\n",
      "['Other' 'They all attend school' 'Health Reasons'\n",
      " 'Lacking money for school fees' 'Childcare' 'Not old enough' 'Too old'\n",
      " 'Household chores']\n",
      "['Other' 'They all attend school' 'Health Reasons' 'Childcare'\n",
      " 'Lacking money for school fees' 'Too old' 'Not old enough'\n",
      " 'Household chores']\n",
      "['Adult Female;' 'None;' 'Adult Male;' 'None;Adult Male;'\n",
      " 'Adult Male;Adult Female;' 'Adult Female;Adult Male;'\n",
      " 'None;Adult Female;']\n",
      "['Safety (of persons, physical)' 'Reliable access to light'\n",
      " 'Increased hours of productivity (business, studying, etc)'\n",
      " 'Ability to charge mobile phone(s)'\n",
      " 'Security (of property, home, possessions)'\n",
      " 'Ability to start a new business' 'Possibility to purchase a TV'\n",
      " 'Ability to earn more money' 'Ability to save more money']\n",
      "['Ability to earn more money' 'Safety (of persons, physical)'\n",
      " 'Security (of property, home, possessions)'\n",
      " 'Ability to start a new business' 'Ability to charge mobile phone(s)'\n",
      " 'Reliable access to light' 'Possibility to purchase a TV'\n",
      " 'Increased hours of productivity (business, studying, etc)'\n",
      " 'Ability to save more money']\n",
      "['Between 5 and 8 hours' 'Between 2 and 5 hours' 'Less than 2 hours'\n",
      " 'More than 8 hours' nan]\n",
      "['Less than one hour' '3-5 hours' '1-2 hours' 'Greater than 5 hours']\n",
      "['600-1000 N/KES' '200- 600 N/KES' '0- 200 N/KES' '1000- 1400 N/KES'\n",
      " '1400 N/KES and above']\n",
      "['Firewood' 'Charcoal' 'Kerosene' 'Other'\n",
      " 'Minigrid electricity (Renewvia)' 'Biomass']\n",
      "['1-2 hours' 'Greater than 5 hours' 'Less than 1 hour' '3-5 hours']\n",
      "['1500- 2000 N/KES' '1000-1500 N/KES' '0-1000 N/KES' '2000- 3000 N/KES'\n",
      " '3000- 4000 N/KES']\n",
      "['Battery' 'Solar home kit' 'Minigrid Electricity (Renewvia)'\n",
      " 'Diesel generator' 'Other' 'Petrol generator']\n",
      "['3000- 4000 N/KES' '150- 1000 N/KES' '0- 150 N/KES' '1000- 3000 N/KES'\n",
      " '4000- 6000 N/KES']\n",
      "['Very unsafe' 'Somewhat safe' 'Somewhat unsafe' 'Very safe'\n",
      " 'Neither safe nor unsafe' nan]\n",
      "['Yes' 'No' nan]\n",
      "['Yes' 'No' nan]\n",
      "['Very safe' 'Very unsafe' 'Somewhat safe' 'Somewhat unsafe'\n",
      " 'Neither safe nor unsafe']\n",
      "[\"I don't feel unsafe\" 'Other'\n",
      " 'Unsafe travel to obtain, water, supplies and charging phones'\n",
      " 'Lack of community lighting' 'Potential theft']\n",
      "[nan 'Home' 'Neighbor' 'Shop' 'Other']\n",
      "['Every day' 'Every 1-2 days' 'Every 2-3 days' 'Every 4 or more days' nan]\n",
      "['0- 100 N/KES' '500- 750 N/KES' '100- 500 N/KES' '1000 N and above'\n",
      " '750- 1000 N/KES' nan]\n",
      "['less than 1 km ' 'Greater than 10 km' '1-2 km' '2-5 km' nan '5-10 km']\n",
      "['Community well or pump' 'Clear water source (fresh spring, lake etc.)'\n",
      " 'At home tap' nan 'Dirty water source (pond, contaminated well etc.)']\n",
      "['Yes' 'No' nan]\n",
      "['Treated / filtered water' nan 'Clean community source ' 'Boiled water'\n",
      " 'Bottled water']\n",
      "['less than 1 km' '1-2 km' '2-5 km' nan 'greater than 10 km' '5-10 km']\n",
      "['1-2 hours' 'less than 1 hour' '2-3 hours' 'greater than 4 hours' nan\n",
      " '3-4 hours']\n",
      "['Child Male' 'Adult Female' 'Child Female' 'Adult Male' nan]\n",
      "['12-15 years old' '15 years or older' '10-12 years old' '5-10 years old'\n",
      " nan 'under 5 years old']\n",
      "[\"I don't pay, it's free.\" '0- 500 N/KES' '5000 N/KES and above'\n",
      " '500- 3000 N/KES' '3000- 5000 N/KES' nan]\n",
      "[nan 'less than 1km' 'between 1-2 km' 'between 2-3 km' 'between 3-5 km'\n",
      " 'greater than 5 km']\n",
      "[nan 'Yes' 'No']\n",
      "[nan 'Yes' 'No']\n"
     ]
    }
   ],
   "source": [
    "for col in list(data.columns):\n",
    "    cats = data[col].unique()\n",
    "    if len(cats) <= 10:\n",
    "        print(cats)"
   ]
  }
 ],
 "metadata": {
  "kernelspec": {
   "display_name": "Python 3 (ipykernel)",
   "language": "python",
   "name": "python3"
  },
  "language_info": {
   "codemirror_mode": {
    "name": "ipython",
    "version": 3
   },
   "file_extension": ".py",
   "mimetype": "text/x-python",
   "name": "python",
   "nbconvert_exporter": "python",
   "pygments_lexer": "ipython3",
   "version": "3.11.4"
  }
 },
 "nbformat": 4,
 "nbformat_minor": 5
}
