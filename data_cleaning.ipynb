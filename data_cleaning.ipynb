{
 "cells": [
  {
   "cell_type": "code",
   "execution_count": 2,
   "id": "806e5ea7-8fca-4d17-8665-a82632e5d5fc",
   "metadata": {},
   "outputs": [],
   "source": [
    "import pandas as pd\n",
    "import numpy as np"
   ]
  },
  {
   "cell_type": "code",
   "execution_count": 3,
   "id": "7b7449e8-950b-4fc5-80a1-4e7bfb0bcdcc",
   "metadata": {},
   "outputs": [],
   "source": [
    "# \n",
    "# data = pd.read_excel(\"Datasets Cleaned/\")\n",
    "# data.head()"
   ]
  },
  {
   "cell_type": "code",
   "execution_count": null,
   "id": "6704849b-8795-4fef-b11c-eda5138b7172",
   "metadata": {},
   "outputs": [],
   "source": [
    "# Renaming the columns\n",
    "# Drop all blanks\n",
    "new_col_names = {\n",
    "\"Start time\": \"start\", \n",
    "\"Completion time\": \"end\", \n",
    "\"What is your Renewvia ID Number?\": \"renewvia_id\",\n",
    "\"Are you the original person assigned to this Renewvia ID?\": \"original_id_user\",\n",
    "\"If you are NOT the original subscriber to this Renewvia ID, how long have you been using this account for access to Renewvia minigrid power?\": \"non_original_id_usage\",\n",
    "\"What is your first name?\": \"first_name\", \n",
    "\"What is your last name?\": \"last_name\", \n",
    "\"How long have you been connected to the Renewvia Minigrid?\": \"connection_period\",\n",
    "\"Please select your business type\": \"business_type\",\n",
    "\"What is the name of your business/school/clinic/religious institution?\": \"institution\",\n",
    "\"Is this business, clinic, school still in operation?\": \"in_operation\",\n",
    "\"If you have closed operations, please explain why:\": \"closed_operation_reasons\",\n",
    "\"Do you have any other sources of electricity other than Renewvia Minigrid?\": \"other_energy_sources\",\n",
    "\"Since connection to Renewvia minigrid, what appliances have you added to your business operations?\": \"added_appliances\",\n",
    "\"If you selected 'other electronic device' above, please list what it is:\": \"other_electronics\",\n",
    "\"Since connection to Renewvia minigrid, has the amount of use of kerosene lanterns changed? \": \"kerosene_usage\",\n",
    "\"Since connection to Renewvia minigrid, has the amount of use of diesel changed? \": \"diesel_usage\",\n",
    "\"Since connection to Renewvia minigrid, have your hours of operation changed at all?\": \"operation_hours\",\n",
    "\"If you answered 'yes, they have increased' above, by how many hours have they increased?\": \"operation_hours_change\",\n",
    "\"Since connection to Renewvia minigrid, has your access to clean drinking water changed at all?\": \"clean_drinking_water\",\n",
    "\"Have you added any new products or services since connection to Renewvia minigrid?\": \"product_line_change\",\n",
    "\"If you answered yes to above, please explain:\": \"product_line_change_reasons\",\n",
    "\"Since connection to Renewvia mingrid, have you had any change in number of workers/employees at your place of work?\": \"workforce\",\n",
    "\"If you answered yes to the question above, please explain:\": \"workforce_reasons\",\n",
    "\"If you answered yes to adding new workers, how many new employees are female?\": \"female_workers\",\n",
    "\"Since connection to Renewvia minigrid, have you seen any change in your weekly or monthly earnings?\": \"earnings_change\",\n",
    "\"What services are you able to offer/sell/provide due to connection to Renewvia minigrid that you weren't able to offer prior to connection?\": \"business_offering_energy_enabled\",\n",
    "\"What is the Clinic / Hospital able to offer or provide due to connection to Renewvia minigrid that it wasn't able to offer before?\": \"clinic_offering_energy_enabled\",\n",
    "\"What is your school able to offer / accomplish by having electricity that wasn't possible before?\": \"school_offering_energy_enabled\",\n",
    "\"Have you seen a change in overall school performance?\": \"school_performance\",\n",
    "\"Please describe any benefits you've seen from having connection to Renewvia minigrid\": \"benefits\",\n",
    "\"Please describe any problems you've experienced from having connection to Renewvia minigrid\": \"problems\"\n",
    "}"
   ]
  },
  {
   "cell_type": "code",
   "execution_count": 4,
   "id": "4f2e91b1-b4be-4e5d-a099-1170842c4189",
   "metadata": {},
   "outputs": [],
   "source": [
    "# data.columns"
   ]
  }
 ],
 "metadata": {
  "kernelspec": {
   "display_name": "Python 3 (ipykernel)",
   "language": "python",
   "name": "python3"
  },
  "language_info": {
   "codemirror_mode": {
    "name": "ipython",
    "version": 3
   },
   "file_extension": ".py",
   "mimetype": "text/x-python",
   "name": "python",
   "nbconvert_exporter": "python",
   "pygments_lexer": "ipython3",
   "version": "3.10.9"
  }
 },
 "nbformat": 4,
 "nbformat_minor": 5
}
