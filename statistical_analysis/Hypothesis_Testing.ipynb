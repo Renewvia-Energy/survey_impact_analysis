{
 "cells": [
  {
   "cell_type": "code",
   "execution_count": 16,
   "id": "fceaf524-27be-4bf9-a481-764d9c1a14b7",
   "metadata": {
    "tags": []
   },
   "outputs": [
    {
     "name": "stderr",
     "output_type": "stream",
     "text": [
      "\u001b[32m\u001b[1m Activating\u001b[22m\u001b[39m new environment at `~/Renewvia/survey_impact_analysis/Project.toml`\n"
     ]
    }
   ],
   "source": [
    "# import Pkg; Pkg.add(\"\")\n",
    "import Pkg\n",
    "Pkg.activate(\".\")\n",
    "using CSV\n",
    "using DataFrames\n",
    "using Statistics\n",
    "using HypothesisTests"
   ]
  },
  {
   "cell_type": "code",
   "execution_count": 17,
   "id": "b529c6c3-8ef9-4fc3-b3ff-9863377b6f0e",
   "metadata": {
    "tags": []
   },
   "outputs": [
    {
     "ename": "LoadError",
     "evalue": "\u001b[91mArgumentError: \"datasets_clean/household_paired_data.csv\" is not a valid file or doesn't exist\u001b[39m",
     "output_type": "error",
     "traceback": [
      "\u001b[91mArgumentError: \"datasets_clean/household_paired_data.csv\" is not a valid file or doesn't exist\u001b[39m",
      "",
      "Stacktrace:",
      " [1] CSV.Context(::CSV.Arg, ::CSV.Arg, ::CSV.Arg, ::CSV.Arg, ::CSV.Arg, ::CSV.Arg, ::CSV.Arg, ::CSV.Arg, ::CSV.Arg, ::CSV.Arg, ::CSV.Arg, ::CSV.Arg, ::CSV.Arg, ::CSV.Arg, ::CSV.Arg, ::CSV.Arg, ::CSV.Arg, ::CSV.Arg, ::CSV.Arg, ::CSV.Arg, ::CSV.Arg, ::CSV.Arg, ::CSV.Arg, ::CSV.Arg, ::CSV.Arg, ::CSV.Arg, ::CSV.Arg, ::CSV.Arg, ::CSV.Arg, ::CSV.Arg, ::CSV.Arg, ::CSV.Arg, ::CSV.Arg, ::CSV.Arg, ::CSV.Arg, ::CSV.Arg, ::CSV.Arg, ::CSV.Arg, ::CSV.Arg, ::CSV.Arg, ::CSV.Arg, ::CSV.Arg, ::CSV.Arg, ::CSV.Arg, ::CSV.Arg, ::CSV.Arg, ::CSV.Arg, ::CSV.Arg) at /home/aorsot/.julia/packages/CSV/jFiCn/src/context.jl:236",
      " [2] #File#25 at /home/aorsot/.julia/packages/CSV/jFiCn/src/file.jl:221 [inlined]",
      " [3] File at /home/aorsot/.julia/packages/CSV/jFiCn/src/file.jl:221 [inlined]",
      " [4] #read#102 at /home/aorsot/.julia/packages/CSV/jFiCn/src/CSV.jl:91 [inlined]",
      " [5] read(::String, ::Type{T} where T) at /home/aorsot/.julia/packages/CSV/jFiCn/src/CSV.jl:88",
      " [6] top-level scope at In[17]:6"
     ]
    }
   ],
   "source": [
    "begin\n",
    "    # download and load\n",
    "    hs_post = CSV.read(\"datasets_clean/household_post_survey_encoded.csv\", DataFrame) \n",
    "    hs_pre = CSV.read(\"datasets_clean/household_pre_survey_encoded.csv\", DataFrame)\n",
    "    ci_post = CSV.read(\"datasets_clean/commercial_post_survey_encoded.csv\", DataFrame)\n",
    "    hs_paired = CSV.read(\"datasets_clean/household_paired_data.csv\", DataFrame)\n",
    "end;"
   ]
  },
  {
   "cell_type": "code",
   "execution_count": 18,
   "id": "c58fcdd7-f739-4139-b21b-0d433403b811",
   "metadata": {
    "tags": []
   },
   "outputs": [
    {
     "data": {
      "text/html": [
       "<div class=\"data-frame\"><p>5 rows × 38 columns (omitted printing of 33 columns)</p><table class=\"data-frame\"><thead><tr><th></th><th>Column1</th><th>renewvia_id</th><th>avg_monthly_household_income</th><th>household_headcount</th><th>female_schooling</th></tr><tr><th></th><th title=\"Int64\">Int64</th><th title=\"String15\">String15</th><th title=\"Union{Missing, Int64}\">Int64?</th><th title=\"Union{Missing, Int64}\">Int64?</th><th title=\"Union{Missing, Int64}\">Int64?</th></tr></thead><tbody><tr><th>1</th><td>0</td><td>501121</td><td><em>missing</em></td><td><em>missing</em></td><td><em>missing</em></td></tr><tr><th>2</th><td>1</td><td>570063</td><td>27000</td><td>3</td><td><em>missing</em></td></tr><tr><th>3</th><td>2</td><td>570028</td><td>30000</td><td>9</td><td>2</td></tr><tr><th>4</th><td>3</td><td>nan</td><td>30000</td><td>2</td><td><em>missing</em></td></tr><tr><th>5</th><td>4</td><td>570097</td><td>38000</td><td>7</td><td>2</td></tr></tbody></table></div>"
      ],
      "text/latex": [
       "\\begin{tabular}{r|cccccc}\n",
       "\t& Column1 & renewvia\\_id & avg\\_monthly\\_household\\_income & household\\_headcount & female\\_schooling & \\\\\n",
       "\t\\hline\n",
       "\t& Int64 & String15 & Int64? & Int64? & Int64? & \\\\\n",
       "\t\\hline\n",
       "\t1 & 0 & 501121 & \\emph{missing} & \\emph{missing} & \\emph{missing} & $\\dots$ \\\\\n",
       "\t2 & 1 & 570063 & 27000 & 3 & \\emph{missing} & $\\dots$ \\\\\n",
       "\t3 & 2 & 570028 & 30000 & 9 & 2 & $\\dots$ \\\\\n",
       "\t4 & 3 & nan & 30000 & 2 & \\emph{missing} & $\\dots$ \\\\\n",
       "\t5 & 4 & 570097 & 38000 & 7 & 2 & $\\dots$ \\\\\n",
       "\\end{tabular}\n"
      ],
      "text/plain": [
       "\u001b[1m5×38 DataFrame\u001b[0m\n",
       "\u001b[1m Row \u001b[0m│\u001b[1m Column1 \u001b[0m\u001b[1m renewvia_id \u001b[0m\u001b[1m avg_monthly_household_income \u001b[0m\u001b[1m household_headcount\u001b[0m ⋯\n",
       "\u001b[1m     \u001b[0m│\u001b[90m Int64   \u001b[0m\u001b[90m String15    \u001b[0m\u001b[90m Union{Missing, Int64}        \u001b[0m\u001b[90m Union{Missing, Int6\u001b[0m ⋯\n",
       "─────┼──────────────────────────────────────────────────────────────────────────\n",
       "   1 │       0  501121      \u001b[90m                      missing \u001b[0m\u001b[90m               missi\u001b[0m ⋯\n",
       "   2 │       1  570063                              27000\n",
       "   3 │       2  570028                              30000\n",
       "   4 │       3  nan                                 30000\n",
       "   5 │       4  570097                              38000                      ⋯\n",
       "\u001b[36m                                                              35 columns omitted\u001b[0m"
      ]
     },
     "execution_count": 18,
     "metadata": {},
     "output_type": "execute_result"
    }
   ],
   "source": [
    "first(hs_pre, 5)"
   ]
  },
  {
   "cell_type": "code",
   "execution_count": 19,
   "id": "e51f0475-2f68-4888-a9be-ff6ef7fd63d0",
   "metadata": {
    "tags": []
   },
   "outputs": [
    {
     "data": {
      "text/html": [
       "<div class=\"data-frame\"><p>5 rows × 52 columns (omitted printing of 47 columns)</p><table class=\"data-frame\"><thead><tr><th></th><th>Column1</th><th>renewvia_id</th><th>interviewed_before_0</th><th>interviewed_before_1</th><th>occupation_change_0</th></tr><tr><th></th><th title=\"Int64\">Int64</th><th title=\"Union{Missing, String15}\">String15?</th><th title=\"Union{Missing, Float64}\">Float64?</th><th title=\"Union{Missing, Float64}\">Float64?</th><th title=\"Union{Missing, Float64}\">Float64?</th></tr></thead><tbody><tr><th>1</th><td>0</td><td><em>missing</em></td><td><em>missing</em></td><td><em>missing</em></td><td><em>missing</em></td></tr><tr><th>2</th><td>1</td><td>521168.0</td><td>0.0</td><td>1.0</td><td>0.0</td></tr><tr><th>3</th><td>2</td><td>521039.0</td><td>1.0</td><td>0.0</td><td>1.0</td></tr><tr><th>4</th><td>3</td><td>521055.0</td><td>0.0</td><td>1.0</td><td>0.0</td></tr><tr><th>5</th><td>4</td><td>521090.0</td><td>0.0</td><td>1.0</td><td>0.0</td></tr></tbody></table></div>"
      ],
      "text/latex": [
       "\\begin{tabular}{r|cccccc}\n",
       "\t& Column1 & renewvia\\_id & interviewed\\_before\\_0 & interviewed\\_before\\_1 & occupation\\_change\\_0 & \\\\\n",
       "\t\\hline\n",
       "\t& Int64 & String15? & Float64? & Float64? & Float64? & \\\\\n",
       "\t\\hline\n",
       "\t1 & 0 & \\emph{missing} & \\emph{missing} & \\emph{missing} & \\emph{missing} & $\\dots$ \\\\\n",
       "\t2 & 1 & 521168.0 & 0.0 & 1.0 & 0.0 & $\\dots$ \\\\\n",
       "\t3 & 2 & 521039.0 & 1.0 & 0.0 & 1.0 & $\\dots$ \\\\\n",
       "\t4 & 3 & 521055.0 & 0.0 & 1.0 & 0.0 & $\\dots$ \\\\\n",
       "\t5 & 4 & 521090.0 & 0.0 & 1.0 & 0.0 & $\\dots$ \\\\\n",
       "\\end{tabular}\n"
      ],
      "text/plain": [
       "\u001b[1m5×52 DataFrame\u001b[0m\n",
       "\u001b[1m Row \u001b[0m│\u001b[1m Column1 \u001b[0m\u001b[1m renewvia_id \u001b[0m\u001b[1m interviewed_before_0 \u001b[0m\u001b[1m interviewed_before_1 \u001b[0m\u001b[1m occup\u001b[0m ⋯\n",
       "\u001b[1m     \u001b[0m│\u001b[90m Int64   \u001b[0m\u001b[90m String15?   \u001b[0m\u001b[90m Float64?             \u001b[0m\u001b[90m Float64?             \u001b[0m\u001b[90m Float\u001b[0m ⋯\n",
       "─────┼──────────────────────────────────────────────────────────────────────────\n",
       "   1 │       0 \u001b[90m missing     \u001b[0m\u001b[90m            missing   \u001b[0m\u001b[90m            missing   \u001b[0m\u001b[90m      \u001b[0m ⋯\n",
       "   2 │       1  521168.0                      0.0                   1.0\n",
       "   3 │       2  521039.0                      1.0                   0.0\n",
       "   4 │       3  521055.0                      0.0                   1.0\n",
       "   5 │       4  521090.0                      0.0                   1.0        ⋯\n",
       "\u001b[36m                                                              48 columns omitted\u001b[0m"
      ]
     },
     "execution_count": 19,
     "metadata": {},
     "output_type": "execute_result"
    }
   ],
   "source": [
    "first(hs_post, 5)"
   ]
  },
  {
   "cell_type": "code",
   "execution_count": 20,
   "id": "052331c1-7704-4162-9f31-c802905fd444",
   "metadata": {
    "tags": []
   },
   "outputs": [
    {
     "data": {
      "text/html": [
       "<div class=\"data-frame\"><p>5 rows × 21 columns (omitted printing of 15 columns)</p><table class=\"data-frame\"><thead><tr><th></th><th>Column1</th><th>renewvia_id</th><th>country</th><th>community</th><th>connection_period</th><th>business_type</th></tr><tr><th></th><th title=\"Int64\">Int64</th><th title=\"String7\">String7</th><th title=\"String7\">String7</th><th title=\"String31\">String31</th><th title=\"Union{Missing, String31}\">String31?</th><th title=\"String31\">String31</th></tr></thead><tbody><tr><th>1</th><td>0</td><td>131206</td><td>kenya</td><td>kalobeyei_settlement</td><td>longer_than_2_years</td><td>shop</td></tr><tr><th>2</th><td>1</td><td>131231</td><td>kenya</td><td>kalobeyei_settlement</td><td>longer_than_2_years</td><td>other_business</td></tr><tr><th>3</th><td>2</td><td>131542</td><td>kenya</td><td>kalobeyei_settlement</td><td>longer_than_2_years</td><td>shop</td></tr><tr><th>4</th><td>3</td><td>131220</td><td>kenya</td><td>kalobeyei_settlement</td><td>longer_than_2_years</td><td>shop</td></tr><tr><th>5</th><td>4</td><td>131485</td><td>kenya</td><td>kalobeyei_settlement</td><td>longer_than_2_years</td><td>shop</td></tr></tbody></table></div>"
      ],
      "text/latex": [
       "\\begin{tabular}{r|ccccccc}\n",
       "\t& Column1 & renewvia\\_id & country & community & connection\\_period & business\\_type & \\\\\n",
       "\t\\hline\n",
       "\t& Int64 & String7 & String7 & String31 & String31? & String31 & \\\\\n",
       "\t\\hline\n",
       "\t1 & 0 & 131206 & kenya & kalobeyei\\_settlement & longer\\_than\\_2\\_years & shop & $\\dots$ \\\\\n",
       "\t2 & 1 & 131231 & kenya & kalobeyei\\_settlement & longer\\_than\\_2\\_years & other\\_business & $\\dots$ \\\\\n",
       "\t3 & 2 & 131542 & kenya & kalobeyei\\_settlement & longer\\_than\\_2\\_years & shop & $\\dots$ \\\\\n",
       "\t4 & 3 & 131220 & kenya & kalobeyei\\_settlement & longer\\_than\\_2\\_years & shop & $\\dots$ \\\\\n",
       "\t5 & 4 & 131485 & kenya & kalobeyei\\_settlement & longer\\_than\\_2\\_years & shop & $\\dots$ \\\\\n",
       "\\end{tabular}\n"
      ],
      "text/plain": [
       "\u001b[1m5×21 DataFrame\u001b[0m\n",
       "\u001b[1m Row \u001b[0m│\u001b[1m Column1 \u001b[0m\u001b[1m renewvia_id \u001b[0m\u001b[1m country \u001b[0m\u001b[1m community            \u001b[0m\u001b[1m connection_period \u001b[0m ⋯\n",
       "\u001b[1m     \u001b[0m│\u001b[90m Int64   \u001b[0m\u001b[90m String7     \u001b[0m\u001b[90m String7 \u001b[0m\u001b[90m String31             \u001b[0m\u001b[90m String31?         \u001b[0m ⋯\n",
       "─────┼──────────────────────────────────────────────────────────────────────────\n",
       "   1 │       0  131206       kenya    kalobeyei_settlement  longer_than_2_year ⋯\n",
       "   2 │       1  131231       kenya    kalobeyei_settlement  longer_than_2_year\n",
       "   3 │       2  131542       kenya    kalobeyei_settlement  longer_than_2_year\n",
       "   4 │       3  131220       kenya    kalobeyei_settlement  longer_than_2_year\n",
       "   5 │       4  131485       kenya    kalobeyei_settlement  longer_than_2_year ⋯\n",
       "\u001b[36m                                                              17 columns omitted\u001b[0m"
      ]
     },
     "execution_count": 20,
     "metadata": {},
     "output_type": "execute_result"
    }
   ],
   "source": [
    "first(ci_post, 5)"
   ]
  },
  {
   "cell_type": "code",
   "execution_count": 6,
   "id": "0dd8a4b4-2e9c-4229-8d6c-3424ff388f05",
   "metadata": {
    "tags": []
   },
   "outputs": [
    {
     "data": {
      "text/html": [
       "<div class=\"data-frame\"><p>5 rows × 52 columns (omitted printing of 48 columns)</p><table class=\"data-frame\"><thead><tr><th></th><th>Column1</th><th>renewvia_id</th><th>avg_monthly_household_income_pre</th><th>household_business_owners_pre</th></tr><tr><th></th><th title=\"Int64\">Int64</th><th title=\"String7\">String7</th><th title=\"Union{Missing, Float64}\">Float64?</th><th title=\"Union{Missing, String31}\">String31?</th></tr></thead><tbody><tr><th>1</th><td>0</td><td>252102</td><td>5000.0</td><td><em>missing</em></td></tr><tr><th>2</th><td>1</td><td>252102</td><td>5000.0</td><td><em>missing</em></td></tr><tr><th>3</th><td>2</td><td>nd2224</td><td>3500.0</td><td><em>missing</em></td></tr><tr><th>4</th><td>3</td><td>161148</td><td>8000.0</td><td><em>missing</em></td></tr><tr><th>5</th><td>4</td><td>161078</td><td>5000.0</td><td>adult_female</td></tr></tbody></table></div>"
      ],
      "text/latex": [
       "\\begin{tabular}{r|ccccc}\n",
       "\t& Column1 & renewvia\\_id & avg\\_monthly\\_household\\_income\\_pre & household\\_business\\_owners\\_pre & \\\\\n",
       "\t\\hline\n",
       "\t& Int64 & String7 & Float64? & String31? & \\\\\n",
       "\t\\hline\n",
       "\t1 & 0 & 252102 & 5000.0 & \\emph{missing} & $\\dots$ \\\\\n",
       "\t2 & 1 & 252102 & 5000.0 & \\emph{missing} & $\\dots$ \\\\\n",
       "\t3 & 2 & nd2224 & 3500.0 & \\emph{missing} & $\\dots$ \\\\\n",
       "\t4 & 3 & 161148 & 8000.0 & \\emph{missing} & $\\dots$ \\\\\n",
       "\t5 & 4 & 161078 & 5000.0 & adult\\_female & $\\dots$ \\\\\n",
       "\\end{tabular}\n"
      ],
      "text/plain": [
       "\u001b[1m5×52 DataFrame\u001b[0m\n",
       "\u001b[1m Row \u001b[0m│\u001b[1m Column1 \u001b[0m\u001b[1m renewvia_id \u001b[0m\u001b[1m avg_monthly_household_income_pre \u001b[0m\u001b[1m household_busin\u001b[0m ⋯\n",
       "\u001b[1m     \u001b[0m│\u001b[90m Int64   \u001b[0m\u001b[90m String7     \u001b[0m\u001b[90m Union{Missing, Float64}          \u001b[0m\u001b[90m Union{Missing, \u001b[0m ⋯\n",
       "─────┼──────────────────────────────────────────────────────────────────────────\n",
       "   1 │       0  252102                                 5000.0 \u001b[90m missing        \u001b[0m ⋯\n",
       "   2 │       1  252102                                 5000.0 \u001b[90m missing\u001b[0m\n",
       "   3 │       2  nd2224                                 3500.0 \u001b[90m missing\u001b[0m\n",
       "   4 │       3  161148                                 8000.0 \u001b[90m missing\u001b[0m\n",
       "   5 │       4  161078                                 5000.0  adult_female    ⋯\n",
       "\u001b[36m                                                              49 columns omitted\u001b[0m"
      ]
     },
     "execution_count": 6,
     "metadata": {},
     "output_type": "execute_result"
    }
   ],
   "source": [
    "first(hs_paired, 5)"
   ]
  },
  {
   "cell_type": "markdown",
   "id": "a466d3b9-984e-45f2-9011-b4d976b2d070",
   "metadata": {
    "tags": []
   },
   "source": [
    "# GENDER EQUALITY"
   ]
  },
  {
   "cell_type": "markdown",
   "id": "b3576a4f-fe09-4884-9fe5-9bf661dd9816",
   "metadata": {},
   "source": [
    "## 1. School Attendance per gender\n",
    "\n",
    "**Data Pre-processing**: We captured directionality of changes in the variable *'female_schooling_change'* and *'female_schooling_change'* with the following encoding :\n",
    "'no_its_the_same' = 0, 'yes_its_increased' = 1, 'yes_its_decreased' = -1\n",
    "\n",
    "**Statistical Test**: ....\n",
    "\n",
    "**Hypothesis Testing**\n",
    "* $H_{0}$: There were no changes in school attendance for female children\n",
    "* $H_{1}$: There were a change in school attendance for female children"
   ]
  },
  {
   "cell_type": "code",
   "execution_count": 13,
   "id": "e06c4bd6-c548-4368-b75b-b52e3d445b38",
   "metadata": {},
   "outputs": [],
   "source": [
    "# begin \n",
    "#     # Allow female_schooling_change col to have missing values\n",
    "#     allowmissing!(hs_post, :female_schooling_change)\n",
    "    \n",
    "#     # Convert \"NA\" to missing\n",
    "#     replace!(hs_post.female_schooling_change, \"NA\" => missing) \n",
    "# end;\n",
    "\n",
    "# onesamplettest = let \n",
    "#     # Fetch a random sample \n",
    "#     x1 = hs_post |>\n",
    "#     x -> hs_post[!, :female_schooling_change] |> skipmissing |> collect |> x->rand(x, 500)\n",
    "#     ChisqTest(x1[, theta0 = ones(length(x1))/length(x1)])\n",
    "#     # ApproximateOneSampleKSTest(x1)\n",
    "# end;"
   ]
  },
  {
   "cell_type": "markdown",
   "id": "dfa68c36-ce65-4fc0-a8d7-4c5a3a1bae7f",
   "metadata": {},
   "source": [
    "**Data Pre-processing**: We captured directionality of changes in the variable *'female_schooling_change'* and *'female_schooling_change'* with the following encoding :\n",
    "'no_its_the_same' = 0, 'yes_its_increased' = 1, 'yes_its_decreased' = -1\n",
    "\n",
    "**Statistical Test**: ...\n",
    "\n",
    "**Hypothesis Testing**\n",
    "* $H_{0}$: There were no changes in school attendance for male children\n",
    "* $H_{1}$: There were a change in school attendance for male children"
   ]
  },
  {
   "cell_type": "code",
   "execution_count": 14,
   "id": "5563f2e6-c743-4172-a064-2593af7047d9",
   "metadata": {
    "tags": []
   },
   "outputs": [],
   "source": [
    "# begin \n",
    "#     # Allow female_schooling_change col to have missing values\n",
    "#     allowmissing!(hs_post, :male_schooling_change)\n",
    "    \n",
    "#     # Convert \"NA\" to missing\n",
    "#     replace!(hs_post.male_schooling_change, \"NA\" => missing) \n",
    "# end;\n",
    "\n",
    "# onesamplettest = let \n",
    "#     # Fetch a random sample \n",
    "#     x1 = hs_post |>\n",
    "#     x -> hs_post[!, :male_schooling_change] |> skipmissing |> collect |> x->rand(x, 500)\n",
    "#     OneSampleTTest(x1, 0)\n",
    "# end;"
   ]
  },
  {
   "cell_type": "markdown",
   "id": "0707b811-7466-4c60-81bf-97c39a9ae8e3",
   "metadata": {},
   "source": [
    "**Result Interpretation**: In either instance, the p-value was small enough to reject the null hypothesis thus, we may assume that there was a significant change in the schooling of both male and female children."
   ]
  },
  {
   "cell_type": "markdown",
   "id": "5c455d86-d9b6-4045-8519-d8c29ac3c695",
   "metadata": {},
   "source": [
    "## 2. Local Businesses - Female Employee\n",
    "\n",
    "**Statistical Test**: One-sample t-Test\n",
    "\n",
    "**Hypothesis Testing**\n",
    "* $H_{0}$: There were no changes in the number of employed women by local businesses\n",
    "* $H_{1}$: There were a change in the number of employed women by local businesses"
   ]
  },
  {
   "cell_type": "code",
   "execution_count": 13,
   "id": "0e2b2474-7762-426f-87af-21b20b0e7145",
   "metadata": {
    "tags": []
   },
   "outputs": [
    {
     "data": {
      "text/plain": [
       "One sample t-test\n",
       "-----------------\n",
       "Population details:\n",
       "    parameter of interest:   Mean\n",
       "    value under h_0:         0\n",
       "    point estimate:          0.3\n",
       "    95% confidence interval: (0.2309, 0.3691)\n",
       "\n",
       "Test summary:\n",
       "    outcome with 95% confidence: reject h_0\n",
       "    two-sided p-value:           <1e-15\n",
       "\n",
       "Details:\n",
       "    number of observations:   500\n",
       "    t-statistic:              8.524664387095914\n",
       "    degrees of freedom:       499\n",
       "    empirical standard error: 0.035192001277389945\n"
      ]
     },
     "execution_count": 13,
     "metadata": {},
     "output_type": "execute_result"
    }
   ],
   "source": [
    "begin \n",
    "    # Allow female_schooling_change col to have missing values\n",
    "    allowmissing!(ci_post, :workforce_change_female)\n",
    "    \n",
    "    # Convert \"NA\" to missing\n",
    "    replace!(ci_post.workforce_change_female, \"NA\" => missing) \n",
    "end\n",
    "\n",
    "onesamplettest = let \n",
    "    # Fetch a random sample \n",
    "    x1 = ci_post |>\n",
    "    x -> ci_post[!, :workforce_change_female] |> skipmissing |> collect |> x->rand(x, 500)\n",
    "    OneSampleTTest(x1, 0)\n",
    "end"
   ]
  },
  {
   "cell_type": "markdown",
   "id": "04fba933-cf21-43f3-a3ac-dc3612bd69e1",
   "metadata": {},
   "source": [
    "## 3. Women Business Owners\n",
    "\n",
    "**Statistical Test**: Two sample paired t-Test\n",
    "\n",
    "**Hypothesis Testing**\n",
    "* $H_{0}$: There were no changes in the number of employed women by local businesses between pre and post survey results\n",
    "* $H_{1}$: There were a change in the number of employed women by local businesses between pre and post survey results"
   ]
  },
  {
   "cell_type": "code",
   "execution_count": 23,
   "id": "bdaa836b-e1d4-417c-b2ab-50fb41892794",
   "metadata": {
    "tags": []
   },
   "outputs": [
    {
     "data": {
      "text/plain": [
       "Two sample t-test (equal variance)\n",
       "----------------------------------\n",
       "Population details:\n",
       "    parameter of interest:   Mean difference\n",
       "    value under h_0:         0\n",
       "    point estimate:          0.0766667\n",
       "    95% confidence interval: (0.007234, 0.1461)\n",
       "\n",
       "Test summary:\n",
       "    outcome with 95% confidence: reject h_0\n",
       "    two-sided p-value:           0.0305\n",
       "\n",
       "Details:\n",
       "    number of observations:   [300,300]\n",
       "    t-statistic:              2.168541382100138\n",
       "    degrees of freedom:       598\n",
       "    empirical standard error: 0.035354025198457734\n"
      ]
     },
     "execution_count": 23,
     "metadata": {},
     "output_type": "execute_result"
    }
   ],
   "source": [
    "begin \n",
    "    # Allow female_schooling_change col to have missing values\n",
    "    allowmissing!(hs_paired, :business_owners_female_pre)\n",
    "    allowmissing!(hs_paired, :business_owners_female_post)\n",
    "    \n",
    "    # Convert \"NA\" to missing\n",
    "    replace!(hs_paired.business_owners_female_pre, \"NA\" => missing)\n",
    "    replace!(hs_paired.business_owners_female_post, \"NA\" => missing) \n",
    "end\n",
    "\n",
    "pairedtwosamplettest = let \n",
    "    x1 = hs_paired |>\n",
    "        x -> x[!, :business_owners_female_pre] |> skipmissing |> collect |> x->rand(x, 500)\n",
    "    x2 = hs_paired |>\n",
    "        x -> x[!, :business_owners_female_post] |> skipmissing |> collect |> x->rand(x, 500)\n",
    "    EqualVarianceTTest(x1, x2)\n",
    "end"
   ]
  },
  {
   "cell_type": "markdown",
   "id": "8467ee07-680d-46d2-86df-b6b972913f92",
   "metadata": {
    "jp-MarkdownHeadingCollapsed": true,
    "tags": []
   },
   "source": [
    "# PRODUCTIVITY"
   ]
  },
  {
   "cell_type": "markdown",
   "id": "d8ac137f-aa89-4a9c-8a13-b6e7ff38bcda",
   "metadata": {},
   "source": [
    "## 4. Light Hours\n",
    "\n",
    "**Statistical Test**: Two sample paired t-Test\n",
    "\n",
    "**Hypothesis Testing**\n",
    "* $H_{0}$: There were no changes in the light hours between pre and post survey results\n",
    "* $H_{1}$: There were a change in the light hours between pre and post survey results"
   ]
  },
  {
   "cell_type": "code",
   "execution_count": 27,
   "id": "51a385a7-f527-4aa4-a5b7-30e853bca16b",
   "metadata": {
    "tags": []
   },
   "outputs": [
    {
     "data": {
      "text/plain": [
       "Two sample t-test (equal variance)\n",
       "----------------------------------\n",
       "Population details:\n",
       "    parameter of interest:   Mean difference\n",
       "    value under h_0:         0\n",
       "    point estimate:          -0.508667\n",
       "    95% confidence interval: (-1.061, 0.04404)\n",
       "\n",
       "Test summary:\n",
       "    outcome with 95% confidence: fail to reject h_0\n",
       "    two-sided p-value:           0.0712\n",
       "\n",
       "Details:\n",
       "    number of observations:   [300,500]\n",
       "    t-statistic:              -1.8065397774984093\n",
       "    degrees of freedom:       798\n",
       "    empirical standard error: 0.2815695912165513\n"
      ]
     },
     "execution_count": 27,
     "metadata": {},
     "output_type": "execute_result"
    }
   ],
   "source": [
    "begin \n",
    "    # Allow female_schooling_change col to have missing values\n",
    "    allowmissing!(hs_paired, :light_hours_current_pre)\n",
    "    allowmissing!(hs_paired, :light_hours_current_post)\n",
    "    \n",
    "    # Convert \"NA\" to missing\n",
    "    replace!(hs_paired.light_hours_current_pre, \"NA\" => missing)\n",
    "    replace!(hs_paired.light_hours_current_post, \"NA\" => missing) \n",
    "end\n",
    "\n",
    "pairedtwosamplettest = let \n",
    "    x1 = hs_paired |>\n",
    "        x -> x[!, :light_hours_current_pre] |> skipmissing |> collect |> x->rand(x, 500)\n",
    "    x2 = hs_paired |>\n",
    "        x -> x[!, :light_hours_current_post] |> skipmissing |> collect |> x->rand(x, 500)\n",
    "    EqualVarianceTTest(x1, x2)\n",
    "end"
   ]
  },
  {
   "cell_type": "markdown",
   "id": "c15e7ea6-fead-4276-9595-b79e68b8e8e6",
   "metadata": {},
   "source": [
    "## 5. Hours of Operation\n",
    "\n",
    "**Statistical Test**: One sample t-Test\n",
    "\n",
    "**Hypothesis Testing**\n",
    "* $H_{0}$: There were no changes in local businesses' hours of operation between pre and post survey results\n",
    "* $H_{1}$: There were a change in local businesses' hours of operation between pre and post survey results"
   ]
  },
  {
   "cell_type": "code",
   "execution_count": 28,
   "id": "00f261a0-a1df-4013-ba9d-489908119bfb",
   "metadata": {
    "tags": []
   },
   "outputs": [
    {
     "data": {
      "text/plain": [
       "One sample t-test\n",
       "-----------------\n",
       "Population details:\n",
       "    parameter of interest:   Mean\n",
       "    value under h_0:         0\n",
       "    point estimate:          0.81\n",
       "    95% confidence interval: (0.7701, 0.8499)\n",
       "\n",
       "Test summary:\n",
       "    outcome with 95% confidence: reject h_0\n",
       "    two-sided p-value:           <1e-99\n",
       "\n",
       "Details:\n",
       "    number of observations:   500\n",
       "    t-statistic:              39.87558967304064\n",
       "    degrees of freedom:       499\n",
       "    empirical standard error: 0.020313179231745138\n"
      ]
     },
     "execution_count": 28,
     "metadata": {},
     "output_type": "execute_result"
    }
   ],
   "source": [
    "begin \n",
    "    # Allow female_schooling_change col to have missing values\n",
    "    allowmissing!(ci_post, :operations_hours_change)\n",
    "    \n",
    "    # Convert \"NA\" to missing\n",
    "    replace!(ci_post.operations_hours_change, \"NA\" => missing) \n",
    "end\n",
    "\n",
    "onesamplettest = let \n",
    "    # Fetch a random sample \n",
    "    x1 = ci_post |>\n",
    "    x -> ci_post[!, :operations_hours_change] |> skipmissing |> collect |> x->rand(x, 500)\n",
    "    OneSampleTTest(x1, 0)\n",
    "end"
   ]
  },
  {
   "cell_type": "markdown",
   "id": "0875570d-98f4-4440-86c7-d9c1a875ddb3",
   "metadata": {},
   "source": [
    "## 6. Electronics\n",
    "\n",
    "**Statistical Test**: Two sample paired t-Test\n",
    "\n",
    "**Hypothesis Testing**\n",
    "* $H_{0}$: There were no changes in the no. of electronics owned by respondent between pre and post survey results\n",
    "* $H_{1}$: There were a change in the no. of electronics owned by respondent between pre and post survey results"
   ]
  },
  {
   "cell_type": "code",
   "execution_count": 29,
   "id": "ccc56256-246d-49e9-b744-87a69e1fbbbb",
   "metadata": {
    "tags": []
   },
   "outputs": [
    {
     "data": {
      "text/plain": [
       "Two sample t-test (equal variance)\n",
       "----------------------------------\n",
       "Population details:\n",
       "    parameter of interest:   Mean difference\n",
       "    value under h_0:         0\n",
       "    point estimate:          -0.0266667\n",
       "    95% confidence interval: (-0.4432, 0.3898)\n",
       "\n",
       "Test summary:\n",
       "    outcome with 95% confidence: fail to reject h_0\n",
       "    two-sided p-value:           0.9000\n",
       "\n",
       "Details:\n",
       "    number of observations:   [300,500]\n",
       "    t-statistic:              -0.1256755698975003\n",
       "    degrees of freedom:       798\n",
       "    empirical standard error: 0.21218655852060903\n"
      ]
     },
     "execution_count": 29,
     "metadata": {},
     "output_type": "execute_result"
    }
   ],
   "source": [
    "begin \n",
    "    # Allow female_schooling_change col to have missing values\n",
    "    allowmissing!(hs_paired, :electronics_count_pre)\n",
    "    allowmissing!(hs_paired, :electronics_count_post)\n",
    "    \n",
    "    # Convert \"NA\" to missing\n",
    "    replace!(hs_paired.electronics_count_pre, \"NA\" => missing)\n",
    "    replace!(hs_paired.electronics_count_post, \"NA\" => missing) \n",
    "end\n",
    "\n",
    "pairedtwosamplettest = let \n",
    "    x1 = hs_paired |>\n",
    "        x -> x[!, :electronics_count_pre] |> skipmissing |> collect |> x->rand(x, 500)\n",
    "    x2 = hs_paired |>\n",
    "        x -> x[!, :electronics_count_post] |> skipmissing |> collect |> x->rand(x, 500)\n",
    "    EqualVarianceTTest(x1, x2)\n",
    "end"
   ]
  },
  {
   "cell_type": "markdown",
   "id": "c074d526-b7e4-4643-91b8-2b70e710fd9b",
   "metadata": {},
   "source": [
    "## 6. Electronics\n",
    "\n",
    "**Statistical Test**: Two sample paired t-Test\n",
    "\n",
    "**Hypothesis Testing**\n",
    "* $H_{0}$: There were no changes in the no. of cellphones owned by respondent between pre and post survey results\n",
    "* $H_{1}$: There were a change in the no. of cellphones owned by respondent between pre and post survey results"
   ]
  },
  {
   "cell_type": "code",
   "execution_count": 30,
   "id": "e26c2e25-3205-4b12-a789-f05d278e9622",
   "metadata": {
    "tags": []
   },
   "outputs": [
    {
     "data": {
      "text/plain": [
       "Two sample t-test (equal variance)\n",
       "----------------------------------\n",
       "Population details:\n",
       "    parameter of interest:   Mean difference\n",
       "    value under h_0:         0\n",
       "    point estimate:          -0.525333\n",
       "    95% confidence interval: (-0.6974, -0.3533)\n",
       "\n",
       "Test summary:\n",
       "    outcome with 95% confidence: reject h_0\n",
       "    two-sided p-value:           <1e-8\n",
       "\n",
       "Details:\n",
       "    number of observations:   [300,500]\n",
       "    t-statistic:              -5.992864380478399\n",
       "    degrees of freedom:       798\n",
       "    empirical standard error: 0.08765980672691226\n"
      ]
     },
     "execution_count": 30,
     "metadata": {},
     "output_type": "execute_result"
    }
   ],
   "source": [
    "begin \n",
    "    # Allow female_schooling_change col to have missing values\n",
    "    allowmissing!(hs_paired, :cellphones_count_pre)\n",
    "    allowmissing!(hs_paired, :cellphones_count_post)\n",
    "    \n",
    "    # Convert \"NA\" to missing\n",
    "    replace!(hs_paired.cellphones_count_pre, \"NA\" => missing)\n",
    "    replace!(hs_paired.cellphones_count_post, \"NA\" => missing) \n",
    "end\n",
    "\n",
    "pairedtwosamplettest = let \n",
    "    x1 = hs_paired |>\n",
    "        x -> x[!, :cellphones_count_pre] |> skipmissing |> collect |> x->rand(x, 300)\n",
    "    x2 = hs_paired |>\n",
    "        x -> x[!, :cellphones_count_post] |> skipmissing |> collect |> x->rand(x, 500)\n",
    "    EqualVarianceTTest(x1, x2)\n",
    "end"
   ]
  },
  {
   "cell_type": "markdown",
   "id": "76750728-8b45-46bf-9d70-26a5bf351409",
   "metadata": {},
   "source": [
    "## 7. Has school performance changed since connection to minigrid?\n",
    "## 8. Have you seen a change in overall school performance?"
   ]
  },
  {
   "cell_type": "markdown",
   "id": "56ebc583-374e-433b-8c08-720fc656076b",
   "metadata": {},
   "source": [
    "## 9. How long does the water collection process take on a daily basis?"
   ]
  },
  {
   "cell_type": "markdown",
   "id": "88bd25e8-cc3e-448c-80cf-16fd030d90a9",
   "metadata": {},
   "source": [
    "## 10. How long does the cooking fuel collection process take on a daily basis?"
   ]
  },
  {
   "cell_type": "markdown",
   "id": "f395142d-647e-4a98-bbee-a8ae3739bee4",
   "metadata": {},
   "source": [
    "## 11.How far must you travel to charge your mobile phone?"
   ]
  },
  {
   "cell_type": "markdown",
   "id": "04d7e6b5-f8df-4fa4-adfc-e539e534109c",
   "metadata": {
    "jp-MarkdownHeadingCollapsed": true,
    "tags": []
   },
   "source": [
    "# HEALTH"
   ]
  },
  {
   "cell_type": "markdown",
   "id": "93b56eff-bedc-45e8-a885-54e72f2f034b",
   "metadata": {},
   "source": [
    "## 1.What hours is the Health Center / Clinic open?\n",
    "## 2.Access to refrigeration of clinic\n",
    "## 3.Does your Health Center / Clinic have access to refrigeration?\n",
    "## 4.Does your Health Center have access to minigrid electricity?\n",
    "\n",
    "## 5.Do you have a source for clean drinking water?\n",
    "## 6.What is the source for clean drinking water?\n",
    "\n",
    "## 7.How many kerosene lamps do you currently use in your household?\n",
    "## 8.Has the number of kerosene lamps in your household changed since connection to minigrid?\n",
    "## 9.Approximately how many hours a day do you use kerosene lamps?"
   ]
  },
  {
   "cell_type": "markdown",
   "id": "eba7ea53-7f04-42fd-b0a8-86eb24977d09",
   "metadata": {
    "jp-MarkdownHeadingCollapsed": true,
    "tags": []
   },
   "source": [
    "# SAFETY"
   ]
  },
  {
   "cell_type": "markdown",
   "id": "26a8faaf-09d6-4f6d-a500-0be7e9f1a4a2",
   "metadata": {},
   "source": [
    "## 1.How safe do you feel outside your home when it is dark?\n",
    "## 2.What makes you feel the most unsafe?\n",
    "\n",
    "## 3.Does your community currently have outdoor community lights?\n",
    "## 4.How safe would you feel outside your home at nighttime IF you had exterior lights?"
   ]
  },
  {
   "cell_type": "markdown",
   "id": "35bc4794-2978-495f-92ba-56c116a2b6fb",
   "metadata": {
    "tags": []
   },
   "source": [
    "# ECONOMIC ACTIVITY"
   ]
  },
  {
   "cell_type": "markdown",
   "id": "311236c0-3849-4581-987b-313e56802580",
   "metadata": {},
   "source": [
    "## 1.For businesses or shop owners only: Since connection to Renewvia minigrid, have you seen any change in your weekly or monthly earnings?"
   ]
  },
  {
   "cell_type": "markdown",
   "id": "b1744216-3167-4ed0-9988-7f020da4965d",
   "metadata": {},
   "source": [
    "## 2.What is your average monthly household income?\n",
    "\n",
    "**Statistical Test**: Two sample paired t-Test\n",
    "\n",
    "**Hypothesis Testing**\n",
    "* $H_{0}$: There were no changes in average monthly household income between pre and post survey respondents\n",
    "* $H_{1}$: There were a change in average monthly household income between pre and post survey respondents"
   ]
  },
  {
   "cell_type": "code",
   "execution_count": 15,
   "id": "e4e393d4-743b-42af-8426-af86888843cd",
   "metadata": {
    "tags": []
   },
   "outputs": [
    {
     "data": {
      "text/plain": [
       "Two sample t-test (equal variance)\n",
       "----------------------------------\n",
       "Population details:\n",
       "    parameter of interest:   Mean difference\n",
       "    value under h_0:         0\n",
       "    point estimate:          3510.04\n",
       "    95% confidence interval: (980.5, 6040.0)\n",
       "\n",
       "Test summary:\n",
       "    outcome with 95% confidence: reject h_0\n",
       "    two-sided p-value:           0.0066\n",
       "\n",
       "Details:\n",
       "    number of observations:   [500,500]\n",
       "    t-statistic:              2.723013352712927\n",
       "    degrees of freedom:       998\n",
       "    empirical standard error: 1289.026363569964\n"
      ]
     },
     "execution_count": 15,
     "metadata": {},
     "output_type": "execute_result"
    }
   ],
   "source": [
    "begin \n",
    "    # Allow female_schooling_change col to have missing values\n",
    "    allowmissing!(hs_paired, :avg_monthly_household_income_pre)\n",
    "    allowmissing!(hs_paired, :avg_monthly_household_income_post)\n",
    "    \n",
    "    # Convert \"NA\" to missing\n",
    "    replace!(hs_paired.avg_monthly_household_income_pre, \"NA\" => missing)\n",
    "    replace!(hs_paired.avg_monthly_household_income_post, \"NA\" => missing) \n",
    "end\n",
    "\n",
    "pairedtwosamplettest = let \n",
    "    x1 = hs_paired |>\n",
    "        x -> x[!, :avg_monthly_household_income_pre] |> skipmissing |> collect |> x->rand(x, 500)\n",
    "    x2 = hs_paired |>\n",
    "        x -> x[!, :avg_monthly_household_income_post] |> skipmissing |> collect |> x->rand(x, 500)\n",
    "    EqualVarianceTTest(x1, x2)\n",
    "end"
   ]
  },
  {
   "cell_type": "markdown",
   "id": "c8df4d39-83bb-46d6-994d-0d7197bab86b",
   "metadata": {},
   "source": [
    "## 3.Has your household income changed since your connection to minigrid power?"
   ]
  },
  {
   "cell_type": "markdown",
   "id": "e599e085-43dc-4bc2-8e8b-0d909b74c123",
   "metadata": {},
   "source": [
    "## 4.What services are you able to offer/sell/provide due to connection to Renewvia minigrid that you weren't able to offer prior to connection?\n",
    "## 5.What is the Clinic / Hospital able to offer or provide due to connection to Renewvia minigrid that it wasn't able to offer before?\n",
    "## 6.What is your school able to offer / accomplish by having electricity that wasn't possible before?"
   ]
  },
  {
   "cell_type": "markdown",
   "id": "8801972b-13b7-48f7-aec8-38528571bf72",
   "metadata": {},
   "source": [
    "## 7.Are any household members business owners?\n",
    "## 8.Is this business recent (started after connection to minigrid power?)\n",
    "## 9.If this business is new, do you consider this new business a result of having access to minigrid power?"
   ]
  },
  {
   "cell_type": "markdown",
   "id": "6739c638-5221-4a65-8f78-223c77e9818b",
   "metadata": {},
   "source": [
    "## 10.What is your occupation?\n",
    "## 11.Has your (or your spouse's) occupation changed since you've been connected to minigrid power?\n",
    "## 12.Since connection to Renewvia mingrid, have you had any change in number of workers/employees at your place of work?"
   ]
  }
 ],
 "metadata": {
  "kernelspec": {
   "display_name": "Julia 1.5.2",
   "language": "julia",
   "name": "julia-1.5"
  },
  "language_info": {
   "file_extension": ".jl",
   "mimetype": "application/julia",
   "name": "julia",
   "version": "1.5.2"
  }
 },
 "nbformat": 4,
 "nbformat_minor": 5
}
