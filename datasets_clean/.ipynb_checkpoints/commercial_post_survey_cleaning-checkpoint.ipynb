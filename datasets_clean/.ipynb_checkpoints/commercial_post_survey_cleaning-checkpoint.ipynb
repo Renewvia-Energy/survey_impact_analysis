{
 "cells": [
  {
   "cell_type": "code",
   "execution_count": 1,
   "id": "806e5ea7-8fca-4d17-8665-a82632e5d5fc",
   "metadata": {},
   "outputs": [],
   "source": [
    "import pandas as pd\n",
    "import numpy as np\n",
    "\n",
    "import category_encoders as ce"
   ]
  },
  {
   "cell_type": "code",
   "execution_count": 2,
   "id": "610a03c7-f6e5-4c4a-b3e9-d7cce116e1d1",
   "metadata": {
    "tags": []
   },
   "outputs": [],
   "source": [
    "cols = [\n",
    "\"renewvia_id\",\n",
    "\"business_type\",\n",
    "\"operation_status\",\n",
    "\"kerosene_usage_change\",\n",
    "\"diesel_usage_change\",\n",
    "\"operations_hours_change\",\n",
    "\"clean_drinking_water_access\",\n",
    "\"new_prod_serv_add\",\n",
    "\"workforce_change\",\n",
    "\"workforce_change_female\",\n",
    "\"weekly_monthly_earnings\",\n",
    "\"school_attendance_change\",\n",
    "\"school_attendance_performance\",\n",
    "]\n",
    "\n",
    "cols_non_ord = {\"renewvia_id\",\"new_prod_serv_add\",\"business_type\"}\n",
    "cols_ord = [ele for ele in cols if ele not in cols_non_ord]"
   ]
  },
  {
   "cell_type": "code",
   "execution_count": 3,
   "id": "1ac7ceec-2e51-4fa9-a2f1-0625acb07ce8",
   "metadata": {
    "tags": []
   },
   "outputs": [],
   "source": [
    "# Importing the commecial dataset\n",
    "ci = pd.read_csv(\"datasets_clean/commercial_post_survey_clean.csv\", \n",
    "                 usecols=cols)\n",
    "\n",
    "# Creating the mapping for each categroical variable with ordinality\n",
    "cats_ord_map = list()\n",
    "for col in cols_ord:\n",
    "    val_ord = dict()\n",
    "    cats = list(ci[col].unique())\n",
    "    for cat in cats:\n",
    "        cat = str(cat)\n",
    "        if cat != 'nan':\n",
    "            if any(map(cat.__contains__, ['no', 'same'])):\n",
    "                val_ord[cat] = 0\n",
    "            elif any(map(cat.__contains__, ['lost', 'decrease'])):\n",
    "                val_ord[cat] = -1\n",
    "            elif any(map(cat.__contains__, ['still', 'add', \n",
    "                                            'better', 'increase',\n",
    "                                           'greater'])):\n",
    "                val_ord[cat] = 1\n",
    "\n",
    "    cats_ord_map.append({\"col\":col, \"mapping\": val_ord})\n",
    "\n",
    "        \n",
    "#Ordinal Encoding\n",
    "enc_ord = ce.OrdinalEncoder(mapping=cats_ord_map, \n",
    "                            handle_unknown=\"return_nan\",\n",
    "                            handle_missing=\"return_nan\",\n",
    "                            return_df=True)\n",
    "\n",
    "\n",
    "#Binary Encoding\n",
    "enc_bin = ce.BinaryEncoder(cols =[\"new_prod_serv_add\"], \n",
    "                            handle_unknown=\"return_nan\",\n",
    "                            handle_missing=\"return_nan\", \n",
    "                            return_df=True)\n",
    "\n",
    "# OneHot Encoding\n",
    "enc_hot = ce.OneHotEncoder(cols =[\"business_type\"], \n",
    "                            handle_unknown=\"return_nan\",\n",
    "                            handle_missing=\"return_nan\",\n",
    "                            use_cat_names=True,\n",
    "                            return_df=True)\n",
    "\n",
    "ci_bin = enc_bin.fit_transform(ci)\n",
    "ci_ord = enc_ord.fit_transform(ci_bin)\n",
    "ci_new = enc_hot.fit_transform(ci_ord)\n",
    "ci_new.to_csv(\"datasets_clean/commercial_encoded.csv\")"
   ]
  }
 ],
 "metadata": {
  "kernelspec": {
   "display_name": "Python 3 (ipykernel)",
   "language": "python",
   "name": "python3"
  },
  "language_info": {
   "codemirror_mode": {
    "name": "ipython",
    "version": 3
   },
   "file_extension": ".py",
   "mimetype": "text/x-python",
   "name": "python",
   "nbconvert_exporter": "python",
   "pygments_lexer": "ipython3",
   "version": "3.11.5"
  }
 },
 "nbformat": 4,
 "nbformat_minor": 5
}
