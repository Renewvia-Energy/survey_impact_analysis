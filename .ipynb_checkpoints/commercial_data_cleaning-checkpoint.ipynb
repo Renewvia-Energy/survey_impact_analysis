{
 "cells": [
  {
   "cell_type": "code",
   "execution_count": 1,
   "id": "806e5ea7-8fca-4d17-8665-a82632e5d5fc",
   "metadata": {},
   "outputs": [],
   "source": [
    "import os\n",
    "import re\n",
    "import pandas as pd\n",
    "import numpy as np\n",
    "\n",
    "import category_encoders as ce"
   ]
  },
  {
   "cell_type": "code",
   "execution_count": 2,
   "id": "610a03c7-f6e5-4c4a-b3e9-d7cce116e1d1",
   "metadata": {
    "tags": []
   },
   "outputs": [],
   "source": [
    "commercial_cols_imp = [\n",
    "\"renewvia_id\",\n",
    "\"business_type\",\n",
    "\"operation_status\",\n",
    "\"kerosene_usage_change\",\n",
    "\"diesel_usage_change\",\n",
    "\"operations_hours_change\",\n",
    "\"clean_drinking_water_access\",\n",
    "\"new_prod_serv_add\",\n",
    "\"workforce_change\",\n",
    "\"workforce_change_female\",\n",
    "\"weekly_monthly_earnings\",\n",
    "\"school_attendance_change\",\n",
    "\"school_attendance_performance\",\n",
    "]"
   ]
  },
  {
   "cell_type": "code",
   "execution_count": 3,
   "id": "4c04c61d-86e0-4e8e-a53c-d6b95aafa635",
   "metadata": {},
   "outputs": [],
   "source": [
    "category_map = [\n",
    "{\"col\": \"operation_status\", \n",
    " \"mapping\": {\n",
    "            \"no_its_closed\":0,\n",
    "            \"yes_we_are_still_operating\": 1, \n",
    "            }},  \n",
    "{\"col\": \"school_attendance_change\", \n",
    " \"mapping\": {\n",
    "            \"no_we_have_not_noticed_a_change\":0,\n",
    "            \"yes_we_have_seen_overall_greater_attendance\": 1, \n",
    "            }},     \n",
    "{\"col\": \"school_attendance_performance\", \n",
    " \"mapping\": {\n",
    "            \"no_there_has_not_been_a_noticeable_change\":0,\n",
    "            \"yes_overall_school_performance_is_better\": 1, \n",
    "        }}, \n",
    "{\"col\": \"workforce_change\", \n",
    " \"mapping\": {\n",
    "            \"yes_we_have_lost_workers\": -1,\n",
    "            \"no_the_number_has_remained_the_same\": 0,\n",
    "            \"yes_we_have_added_workers\": 1, \n",
    "            }}, \n",
    "]\n",
    "\n",
    "cols = [\"kerosene_usage_change\", \n",
    "        \"weekly_monthly_earnings\", \n",
    "        \"diesel_usage_change\",\n",
    "       \"operations_hours_change\",\n",
    "       \"clean_drinking_water_access\"]\n",
    "col_ord = {\n",
    "    'yes_it_has_decreased': -1,\n",
    "    'no_it_is_pretty_much_the_same': 0,\n",
    "    'yes_it_has_increased': 1\n",
    " }\n",
    "\n",
    "for col in cols:\n",
    "    category_map.append({\"col\":col, \"mapping\":col_ord})"
   ]
  },
  {
   "cell_type": "code",
   "execution_count": 4,
   "id": "c9ade2a4-6edf-482a-8e7b-46493025d868",
   "metadata": {
    "tags": []
   },
   "outputs": [],
   "source": [
    " ci = pd.read_csv(\"datasets_clean/commercial_post_connection_merged.csv\", \n",
    "                 usecols=commercial_cols_imp)\n",
    "\n",
    "# for col in commercial_cols_imp:\n",
    "#     cats = ci[col].unique()\n",
    "#     if len(cats) <= 10:\n",
    "#         print(col, cats, \"\\n\")\n",
    "\n",
    "\n",
    "#OneHot Encoding\n",
    "enc_bin = ce.BinaryEncoder(cols =[\"new_prod_serv_add\"], \n",
    "                            handle_unknown=\"return_nan\",\n",
    "                            handle_missing=\"return_nan\", \n",
    "                            return_df=True)\n",
    "#Ordinal Encoding\n",
    "enc_ord = ce.OrdinalEncoder(mapping=category_map, \n",
    "                            handle_unknown=\"return_nan\",\n",
    "                            handle_missing=\"return_nan\",\n",
    "                            return_df=True)\n",
    "\n",
    "# OneHot Encoding\n",
    "enc_hot = ce.OneHotEncoder(cols =[\"business_type\"], \n",
    "                            handle_unknown=\"return_nan\",\n",
    "                            handle_missing=\"return_nan\",\n",
    "                            use_cat_names=True,\n",
    "                            return_df=True)\n",
    "\n",
    "ci_bin = enc_bin.fit_transform(ci)\n",
    "ci_ord = enc_ord.fit_transform(ci_bin)\n",
    "ci_new = enc_hot.fit_transform(ci_ord)\n",
    "ci_new.to_csv(\"commercial_encoded.csv\")"
   ]
  }
 ],
 "metadata": {
  "kernelspec": {
   "display_name": "Python 3 (ipykernel)",
   "language": "python",
   "name": "python3"
  },
  "language_info": {
   "codemirror_mode": {
    "name": "ipython",
    "version": 3
   },
   "file_extension": ".py",
   "mimetype": "text/x-python",
   "name": "python",
   "nbconvert_exporter": "python",
   "pygments_lexer": "ipython3",
   "version": "3.11.4"
  }
 },
 "nbformat": 4,
 "nbformat_minor": 5
}
