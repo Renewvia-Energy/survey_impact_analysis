{
 "cells": [
  {
   "cell_type": "code",
   "execution_count": 5,
   "id": "806e5ea7-8fca-4d17-8665-a82632e5d5fc",
   "metadata": {},
   "outputs": [],
   "source": [
    "import os\n",
    "import re\n",
    "import pandas as pd\n",
    "import numpy as np"
   ]
  },
  {
   "cell_type": "code",
   "execution_count": 61,
   "id": "78e29d43-55dc-4931-a33b-dd092dbd0ec8",
   "metadata": {
    "tags": []
   },
   "outputs": [],
   "source": [
    "# for col in list(data.columns):\n",
    "#     cats = data[col].unique()\n",
    "#     if len(cats) <= 10:\n",
    "#         print(cats)"
   ]
  }
 ],
 "metadata": {
  "kernelspec": {
   "display_name": "Python 3 (ipykernel)",
   "language": "python",
   "name": "python3"
  },
  "language_info": {
   "codemirror_mode": {
    "name": "ipython",
    "version": 3
   },
   "file_extension": ".py",
   "mimetype": "text/x-python",
   "name": "python",
   "nbconvert_exporter": "python",
   "pygments_lexer": "ipython3",
   "version": "3.11.4"
  }
 },
 "nbformat": 4,
 "nbformat_minor": 5
}
