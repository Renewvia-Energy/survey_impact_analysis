{
 "cells": [
  {
   "cell_type": "code",
   "execution_count": 2,
   "id": "806e5ea7-8fca-4d17-8665-a82632e5d5fc",
   "metadata": {},
   "outputs": [],
   "source": [
    "import pandas as pd\n",
    "import numpy as np"
   ]
  },
  {
   "cell_type": "code",
   "execution_count": 3,
   "id": "7b7449e8-950b-4fc5-80a1-4e7bfb0bcdcc",
   "metadata": {},
   "outputs": [],
   "source": [
    "# \n",
    "# data = pd.read_excel(\"Datasets Cleaned/\")\n",
    "# data.head()"
   ]
  },
  {
   "cell_type": "code",
   "execution_count": 4,
   "id": "4f2e91b1-b4be-4e5d-a099-1170842c4189",
   "metadata": {},
   "outputs": [],
   "source": [
    "# data.columns"
   ]
  }
 ],
 "metadata": {
  "kernelspec": {
   "display_name": "Python 3 (ipykernel)",
   "language": "python",
   "name": "python3"
  },
  "language_info": {
   "codemirror_mode": {
    "name": "ipython",
    "version": 3
   },
   "file_extension": ".py",
   "mimetype": "text/x-python",
   "name": "python",
   "nbconvert_exporter": "python",
   "pygments_lexer": "ipython3",
   "version": "3.11.4"
  }
 },
 "nbformat": 4,
 "nbformat_minor": 5
}
