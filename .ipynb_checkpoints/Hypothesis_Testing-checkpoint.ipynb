{
 "cells": [
  {
   "cell_type": "code",
   "execution_count": 15,
   "id": "fceaf524-27be-4bf9-a481-764d9c1a14b7",
   "metadata": {
    "tags": []
   },
   "outputs": [
    {
     "name": "stderr",
     "output_type": "stream",
     "text": [
      "\u001b[32m\u001b[1m Activating\u001b[22m\u001b[39m new environment at `~/Renewvia/survey_impact_analysis/Project.toml`\n",
      "\u001b[36m\u001b[1m[ \u001b[22m\u001b[39m\u001b[36m\u001b[1mInfo: \u001b[22m\u001b[39mPrecompiling HypothesisTests [09f84164-cd44-5f33-b23f-e6b0d136a0d5]\n"
     ]
    }
   ],
   "source": [
    "# import Pkg; Pkg.add(\"\")\n",
    "import Pkg\n",
    "Pkg.activate(\".\")\n",
    "using CSV\n",
    "using DataFrames\n",
    "using Statistics\n",
    "using HypothesisTests"
   ]
  },
  {
   "cell_type": "code",
   "execution_count": 41,
   "id": "b529c6c3-8ef9-4fc3-b3ff-9863377b6f0e",
   "metadata": {
    "tags": []
   },
   "outputs": [],
   "source": [
    "begin\n",
    "    # download and load\n",
    "    hs_post = CSV.read(\"datasets_clean/household_post_survey_encoded.csv\", DataFrame) \n",
    "    hs_pre = CSV.read(\"datasets_clean/household_pre_survey_encoded.csv\", DataFrame)\n",
    "    ci_post = CSV.read(\"datasets_clean/commercial_post_survey_encoded\", DataFrame)\n",
    "end;"
   ]
  },
  {
   "cell_type": "code",
   "execution_count": 43,
   "id": "c58fcdd7-f739-4139-b21b-0d433403b811",
   "metadata": {
    "tags": []
   },
   "outputs": [
    {
     "data": {
      "text/html": [
       "<div class=\"data-frame\"><p>5 rows × 40 columns (omitted printing of 35 columns)</p><table class=\"data-frame\"><thead><tr><th></th><th>Column1</th><th>renewvia_id</th><th>avg_monthly_household_income</th><th>household_headcount</th><th>female_schooling</th></tr><tr><th></th><th title=\"Int64\">Int64</th><th title=\"String15\">String15</th><th title=\"Union{Missing, Int64}\">Int64?</th><th title=\"Union{Missing, Int64}\">Int64?</th><th title=\"Union{Missing, Int64}\">Int64?</th></tr></thead><tbody><tr><th>1</th><td>0</td><td>501121</td><td><em>missing</em></td><td><em>missing</em></td><td><em>missing</em></td></tr><tr><th>2</th><td>1</td><td>570063</td><td>27000</td><td>3</td><td><em>missing</em></td></tr><tr><th>3</th><td>2</td><td>570028</td><td>30000</td><td>9</td><td>2</td></tr><tr><th>4</th><td>3</td><td>nan</td><td>30000</td><td>2</td><td><em>missing</em></td></tr><tr><th>5</th><td>4</td><td>570097</td><td>38000</td><td>7</td><td>2</td></tr></tbody></table></div>"
      ],
      "text/latex": [
       "\\begin{tabular}{r|cccccc}\n",
       "\t& Column1 & renewvia\\_id & avg\\_monthly\\_household\\_income & household\\_headcount & female\\_schooling & \\\\\n",
       "\t\\hline\n",
       "\t& Int64 & String15 & Int64? & Int64? & Int64? & \\\\\n",
       "\t\\hline\n",
       "\t1 & 0 & 501121 & \\emph{missing} & \\emph{missing} & \\emph{missing} & $\\dots$ \\\\\n",
       "\t2 & 1 & 570063 & 27000 & 3 & \\emph{missing} & $\\dots$ \\\\\n",
       "\t3 & 2 & 570028 & 30000 & 9 & 2 & $\\dots$ \\\\\n",
       "\t4 & 3 & nan & 30000 & 2 & \\emph{missing} & $\\dots$ \\\\\n",
       "\t5 & 4 & 570097 & 38000 & 7 & 2 & $\\dots$ \\\\\n",
       "\\end{tabular}\n"
      ],
      "text/plain": [
       "\u001b[1m5×40 DataFrame\u001b[0m\n",
       "\u001b[1m Row \u001b[0m│\u001b[1m Column1 \u001b[0m\u001b[1m renewvia_id \u001b[0m\u001b[1m avg_monthly_household_income \u001b[0m\u001b[1m household_headcount\u001b[0m ⋯\n",
       "\u001b[1m     \u001b[0m│\u001b[90m Int64   \u001b[0m\u001b[90m String15    \u001b[0m\u001b[90m Union{Missing, Int64}        \u001b[0m\u001b[90m Union{Missing, Int6\u001b[0m ⋯\n",
       "─────┼──────────────────────────────────────────────────────────────────────────\n",
       "   1 │       0  501121      \u001b[90m                      missing \u001b[0m\u001b[90m               missi\u001b[0m ⋯\n",
       "   2 │       1  570063                              27000\n",
       "   3 │       2  570028                              30000\n",
       "   4 │       3  nan                                 30000\n",
       "   5 │       4  570097                              38000                      ⋯\n",
       "\u001b[36m                                                              37 columns omitted\u001b[0m"
      ]
     },
     "execution_count": 43,
     "metadata": {},
     "output_type": "execute_result"
    }
   ],
   "source": [
    "first(hs_pre, 5)"
   ]
  },
  {
   "cell_type": "code",
   "execution_count": 44,
   "id": "e51f0475-2f68-4888-a9be-ff6ef7fd63d0",
   "metadata": {
    "tags": []
   },
   "outputs": [
    {
     "data": {
      "text/html": [
       "<div class=\"data-frame\"><p>5 rows × 54 columns (omitted printing of 49 columns)</p><table class=\"data-frame\"><thead><tr><th></th><th>Column1</th><th>renewvia_id</th><th>interviewed_before_0</th><th>interviewed_before_1</th><th>occupation_change_0</th></tr><tr><th></th><th title=\"Int64\">Int64</th><th title=\"Union{Missing, String15}\">String15?</th><th title=\"Union{Missing, Float64}\">Float64?</th><th title=\"Union{Missing, Float64}\">Float64?</th><th title=\"Union{Missing, Float64}\">Float64?</th></tr></thead><tbody><tr><th>1</th><td>0</td><td><em>missing</em></td><td><em>missing</em></td><td><em>missing</em></td><td><em>missing</em></td></tr><tr><th>2</th><td>1</td><td>521168.0</td><td>0.0</td><td>1.0</td><td>0.0</td></tr><tr><th>3</th><td>2</td><td>521039.0</td><td>1.0</td><td>0.0</td><td>1.0</td></tr><tr><th>4</th><td>3</td><td>521055.0</td><td>0.0</td><td>1.0</td><td>0.0</td></tr><tr><th>5</th><td>4</td><td>521090.0</td><td>0.0</td><td>1.0</td><td>0.0</td></tr></tbody></table></div>"
      ],
      "text/latex": [
       "\\begin{tabular}{r|cccccc}\n",
       "\t& Column1 & renewvia\\_id & interviewed\\_before\\_0 & interviewed\\_before\\_1 & occupation\\_change\\_0 & \\\\\n",
       "\t\\hline\n",
       "\t& Int64 & String15? & Float64? & Float64? & Float64? & \\\\\n",
       "\t\\hline\n",
       "\t1 & 0 & \\emph{missing} & \\emph{missing} & \\emph{missing} & \\emph{missing} & $\\dots$ \\\\\n",
       "\t2 & 1 & 521168.0 & 0.0 & 1.0 & 0.0 & $\\dots$ \\\\\n",
       "\t3 & 2 & 521039.0 & 1.0 & 0.0 & 1.0 & $\\dots$ \\\\\n",
       "\t4 & 3 & 521055.0 & 0.0 & 1.0 & 0.0 & $\\dots$ \\\\\n",
       "\t5 & 4 & 521090.0 & 0.0 & 1.0 & 0.0 & $\\dots$ \\\\\n",
       "\\end{tabular}\n"
      ],
      "text/plain": [
       "\u001b[1m5×54 DataFrame\u001b[0m\n",
       "\u001b[1m Row \u001b[0m│\u001b[1m Column1 \u001b[0m\u001b[1m renewvia_id \u001b[0m\u001b[1m interviewed_before_0 \u001b[0m\u001b[1m interviewed_before_1 \u001b[0m\u001b[1m occup\u001b[0m ⋯\n",
       "\u001b[1m     \u001b[0m│\u001b[90m Int64   \u001b[0m\u001b[90m String15?   \u001b[0m\u001b[90m Float64?             \u001b[0m\u001b[90m Float64?             \u001b[0m\u001b[90m Float\u001b[0m ⋯\n",
       "─────┼──────────────────────────────────────────────────────────────────────────\n",
       "   1 │       0 \u001b[90m missing     \u001b[0m\u001b[90m            missing   \u001b[0m\u001b[90m            missing   \u001b[0m\u001b[90m      \u001b[0m ⋯\n",
       "   2 │       1  521168.0                      0.0                   1.0\n",
       "   3 │       2  521039.0                      1.0                   0.0\n",
       "   4 │       3  521055.0                      0.0                   1.0\n",
       "   5 │       4  521090.0                      0.0                   1.0        ⋯\n",
       "\u001b[36m                                                              50 columns omitted\u001b[0m"
      ]
     },
     "execution_count": 44,
     "metadata": {},
     "output_type": "execute_result"
    }
   ],
   "source": [
    "first(hs_post, 5)"
   ]
  },
  {
   "cell_type": "code",
   "execution_count": 45,
   "id": "052331c1-7704-4162-9f31-c802905fd444",
   "metadata": {
    "tags": []
   },
   "outputs": [
    {
     "data": {
      "text/html": [
       "<div class=\"data-frame\"><p>5 rows × 15 columns (omitted printing of 9 columns)</p><table class=\"data-frame\"><thead><tr><th></th><th>Column1</th><th>renewvia_id</th><th>business_type</th><th>operation_status</th><th>kerosene_usage_change</th><th>diesel_usage_change</th></tr><tr><th></th><th title=\"Int64\">Int64</th><th title=\"String7\">String7</th><th title=\"String31\">String31</th><th title=\"Union{Missing, Float64}\">Float64?</th><th title=\"Union{Missing, Float64}\">Float64?</th><th title=\"Union{Missing, Float64}\">Float64?</th></tr></thead><tbody><tr><th>1</th><td>0</td><td>131206</td><td>shop</td><td><em>missing</em></td><td>-1.0</td><td>-1.0</td></tr><tr><th>2</th><td>1</td><td>131231</td><td>other_business</td><td><em>missing</em></td><td>-1.0</td><td>-1.0</td></tr><tr><th>3</th><td>2</td><td>131542</td><td>shop</td><td><em>missing</em></td><td>-1.0</td><td>-1.0</td></tr><tr><th>4</th><td>3</td><td>131220</td><td>shop</td><td><em>missing</em></td><td>1.0</td><td>1.0</td></tr><tr><th>5</th><td>4</td><td>131485</td><td>shop</td><td><em>missing</em></td><td>-1.0</td><td>-1.0</td></tr></tbody></table></div>"
      ],
      "text/latex": [
       "\\begin{tabular}{r|ccccccc}\n",
       "\t& Column1 & renewvia\\_id & business\\_type & operation\\_status & kerosene\\_usage\\_change & diesel\\_usage\\_change & \\\\\n",
       "\t\\hline\n",
       "\t& Int64 & String7 & String31 & Float64? & Float64? & Float64? & \\\\\n",
       "\t\\hline\n",
       "\t1 & 0 & 131206 & shop & \\emph{missing} & -1.0 & -1.0 & $\\dots$ \\\\\n",
       "\t2 & 1 & 131231 & other\\_business & \\emph{missing} & -1.0 & -1.0 & $\\dots$ \\\\\n",
       "\t3 & 2 & 131542 & shop & \\emph{missing} & -1.0 & -1.0 & $\\dots$ \\\\\n",
       "\t4 & 3 & 131220 & shop & \\emph{missing} & 1.0 & 1.0 & $\\dots$ \\\\\n",
       "\t5 & 4 & 131485 & shop & \\emph{missing} & -1.0 & -1.0 & $\\dots$ \\\\\n",
       "\\end{tabular}\n"
      ],
      "text/plain": [
       "\u001b[1m5×15 DataFrame\u001b[0m\n",
       "\u001b[1m Row \u001b[0m│\u001b[1m Column1 \u001b[0m\u001b[1m renewvia_id \u001b[0m\u001b[1m business_type  \u001b[0m\u001b[1m operation_status \u001b[0m\u001b[1m kerosene_usage_\u001b[0m ⋯\n",
       "\u001b[1m     \u001b[0m│\u001b[90m Int64   \u001b[0m\u001b[90m String7     \u001b[0m\u001b[90m String31       \u001b[0m\u001b[90m Float64?         \u001b[0m\u001b[90m Float64?       \u001b[0m ⋯\n",
       "─────┼──────────────────────────────────────────────────────────────────────────\n",
       "   1 │       0  131206       shop           \u001b[90m          missing \u001b[0m                 ⋯\n",
       "   2 │       1  131231       other_business \u001b[90m          missing \u001b[0m\n",
       "   3 │       2  131542       shop           \u001b[90m          missing \u001b[0m\n",
       "   4 │       3  131220       shop           \u001b[90m          missing \u001b[0m\n",
       "   5 │       4  131485       shop           \u001b[90m          missing \u001b[0m                 ⋯\n",
       "\u001b[36m                                                              11 columns omitted\u001b[0m"
      ]
     },
     "execution_count": 45,
     "metadata": {},
     "output_type": "execute_result"
    }
   ],
   "source": [
    "first(ci_post, 5)"
   ]
  },
  {
   "cell_type": "markdown",
   "id": "a466d3b9-984e-45f2-9011-b4d976b2d070",
   "metadata": {},
   "source": [
    "# Gender Equality\n",
    "1. School Attendance per gender\n",
    "2. Employment (Jobs/Business) per Gender"
   ]
  },
  {
   "cell_type": "markdown",
   "id": "b3576a4f-fe09-4884-9fe5-9bf661dd9816",
   "metadata": {},
   "source": [
    "## School Attendance per gender\n",
    "\n",
    "**Data Pre-processing**: We captured directionality of changes in the variable *'female_schooling_change'* and *'female_schooling_change'* with the following encoding :\n",
    "'no_its_the_same' = 0, 'yes_its_increased' = 1, 'yes_its_decreased' = -1\n",
    "\n",
    "**Statistical Test**: One-sample t-Test"
   ]
  },
  {
   "cell_type": "markdown",
   "id": "99838a95-7c53-4acf-b41e-af3706d02830",
   "metadata": {},
   "source": [
    "**Hypothesis**\n",
    "* $H_{0}$: There were no changes in school attendance for female children\n",
    "* $H_{1}$: There were a change in school attendance for female children"
   ]
  },
  {
   "cell_type": "code",
   "execution_count": 46,
   "id": "e06c4bd6-c548-4368-b75b-b52e3d445b38",
   "metadata": {},
   "outputs": [
    {
     "data": {
      "text/plain": [
       "One sample t-test\n",
       "-----------------\n",
       "Population details:\n",
       "    parameter of interest:   Mean\n",
       "    value under h_0:         0\n",
       "    point estimate:          0.162\n",
       "    95% confidence interval: (0.136, 0.188)\n",
       "\n",
       "Test summary:\n",
       "    outcome with 95% confidence: reject h_0\n",
       "    two-sided p-value:           <1e-31\n",
       "\n",
       "Details:\n",
       "    number of observations:   1000\n",
       "    t-statistic:              12.213571485548346\n",
       "    degrees of freedom:       999\n",
       "    empirical standard error: 0.01326393350148937\n"
      ]
     },
     "execution_count": 46,
     "metadata": {},
     "output_type": "execute_result"
    }
   ],
   "source": [
    "begin \n",
    "    # Allow female_schooling_change col to have missing values\n",
    "    allowmissing!(hs_post, :female_schooling_change)\n",
    "    \n",
    "    # Convert \"NA\" to missing\n",
    "    replace!(hs_post.female_schooling_change, \"NA\" => missing) \n",
    "end\n",
    "\n",
    "onesamplettest = let \n",
    "    # Fetch a random sample \n",
    "    x1 = data |>\n",
    "    x -> data[!, :female_schooling_change] |> skipmissing |> collect |> x->rand(x, 1000)\n",
    "    OneSampleTTest(x1, 0)\n",
    "end"
   ]
  },
  {
   "cell_type": "markdown",
   "id": "dfa68c36-ce65-4fc0-a8d7-4c5a3a1bae7f",
   "metadata": {},
   "source": [
    "**Hypothesis**\n",
    "* $H_{0}$: There were no changes in school attendance for male children\n",
    "* $H_{1}$: There were a change in school attendance for male children"
   ]
  },
  {
   "cell_type": "code",
   "execution_count": 47,
   "id": "5563f2e6-c743-4172-a064-2593af7047d9",
   "metadata": {
    "tags": []
   },
   "outputs": [
    {
     "data": {
      "text/plain": [
       "One sample t-test\n",
       "-----------------\n",
       "Population details:\n",
       "    parameter of interest:   Mean\n",
       "    value under h_0:         0\n",
       "    point estimate:          0.149\n",
       "    95% confidence interval: (0.1238, 0.1742)\n",
       "\n",
       "Test summary:\n",
       "    outcome with 95% confidence: reject h_0\n",
       "    two-sided p-value:           <1e-28\n",
       "\n",
       "Details:\n",
       "    number of observations:   1000\n",
       "    t-statistic:              11.600901156855814\n",
       "    degrees of freedom:       999\n",
       "    empirical standard error: 0.012843829801268938\n"
      ]
     },
     "execution_count": 47,
     "metadata": {},
     "output_type": "execute_result"
    }
   ],
   "source": [
    "begin \n",
    "    # Allow female_schooling_change col to have missing values\n",
    "    allowmissing!(hs_post, :male_schooling_change)\n",
    "    \n",
    "    # Convert \"NA\" to missing\n",
    "    replace!(hs_post.male_schooling_change, \"NA\" => missing) \n",
    "end\n",
    "\n",
    "onesamplettest = let \n",
    "    # Fetch a random sample \n",
    "    x1 = data |>\n",
    "    x -> data[!, :male_schooling_change] |> skipmissing |> collect |> x->rand(x, 1000)\n",
    "    OneSampleTTest(x1, 0)\n",
    "end"
   ]
  },
  {
   "cell_type": "markdown",
   "id": "0707b811-7466-4c60-81bf-97c39a9ae8e3",
   "metadata": {},
   "source": [
    "**Result Interpretation**: In either instance, the p-value was small enough to reject the null hypothesis thus, we may assume that there was a significant change in the schooling of both male and female children."
   ]
  },
  {
   "cell_type": "markdown",
   "id": "5c455d86-d9b6-4045-8519-d8c29ac3c695",
   "metadata": {},
   "source": [
    "## Female Economic Empowerment\n",
    "\n",
    "**Data Pre-processing**: Here, the variable was denoted as *'female_schooling_change'* and *'female_schooling_change'* with the following encoding :\n",
    "'no_its_the_same' = 0, 'yes_its_increased' = 1, 'yes_its_decreased' = -1\n",
    "\n",
    "**Statistical Test**: Two sample Paired t-Test"
   ]
  }
 ],
 "metadata": {
  "kernelspec": {
   "display_name": "Julia 1.5.2",
   "language": "julia",
   "name": "julia-1.5"
  },
  "language_info": {
   "file_extension": ".jl",
   "mimetype": "application/julia",
   "name": "julia",
   "version": "1.5.2"
  }
 },
 "nbformat": 4,
 "nbformat_minor": 5
}
