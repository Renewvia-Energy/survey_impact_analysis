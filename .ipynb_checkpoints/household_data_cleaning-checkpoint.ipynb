{
 "cells": [
  {
   "cell_type": "code",
   "execution_count": null,
   "id": "5b74d461-b4eb-4f84-a814-f530d165e7ae",
   "metadata": {},
   "outputs": [],
   "source": [
    "import pandas as pd\n",
    "import numpy as np\n",
    "\n",
    "import category_encoders as ce"
   ]
  },
  {
   "cell_type": "code",
   "execution_count": null,
   "id": "6d5fe20c-a5f8-411b-ac29-df9217795a9e",
   "metadata": {},
   "outputs": [],
   "source": [
    "# Transform into ratio\n",
    "filter_cols = [\n",
    "\"renewvia_id\", \"avg_monthly_household_income\",\n",
    "\"household_headcount\", \"female_schooling\",\n",
    "\"male_schooling\", \"household_business_owners\",\n",
    "\"electronics_count\", \"cellphones_count\",\n",
    "\"light_hours_current\", \"kerosene_lamp_usage_count\",\n",
    "\"cooking_energy_sources\", \"cooking_fuel_collection_time\",\n",
    "\"cooking_energy_monthly_cost\", \"applicances_charging_monthly_cost\",\n",
    "\"feel_safe_dark\", \"community_lights\", \"home_exterior_lights\",\n",
    "\"feel_safe_if_exterior_lights\", \"phone_charge_location\",\n",
    "\"phone_charge_monthly_cost\", \"water_source\",\n",
    "\"clean_drinking_water\", \"clean_drinking_water_source\",\n",
    "\"water_collection_travel_distance\", \"water_collection_time\",\n",
    "\"water_monthly_cost\", \"clinic_travel_distance\",\n",
    "\"clinic_electricity_access\", \"clinic_open_hours\",\n",
    "\"clinic_refrigeration_access\",\n",
    "]\n",
    "hs_pre_com = pd.read_csv(\"datasets_clean/household_pre_connection_commcare.csv\", usecols=filter_cols)\n",
    "hs_pre_ms = pd.read_csv(\"datasets_clean/household_pre_connection_ms_form.csv\", \n",
    "                        usecols=filter_cols, encoding = \"ISO-8859-1\")\n",
    "df = pd.concat([hs_pre_com, hs_pre_ms])\n",
    "df.head()\n",
    "# hs_pre.to_csv(\"datasets_clean/household_pre_merged.csv\")"
   ]
  },
  {
   "cell_type": "code",
   "execution_count": null,
   "id": "f5f5924d-0bcf-4e36-b4df-b2da5daefb6f",
   "metadata": {},
   "outputs": [],
   "source": [
    "#Set outliers aside\n",
    "df.drop(df[df['household_headcount'] >= 20].index, inplace=True)\n",
    "\n",
    "# Replace values\n",
    "df['household_business_owners'] = df['household_business_owners'].replace(['Adult Female;', 'adult_female'], 'adult_female;')\n",
    "\n",
    "for col in list(hs_pre.columns)[3:]:\n",
    "    cats = hs_pre[col].unique()\n",
    "    print(\"\\t-\",col, cats)"
   ]
  }
 ],
 "metadata": {
  "kernelspec": {
   "display_name": "Python 3 (ipykernel)",
   "language": "python",
   "name": "python3"
  },
  "language_info": {
   "codemirror_mode": {
    "name": "ipython",
    "version": 3
   },
   "file_extension": ".py",
   "mimetype": "text/x-python",
   "name": "python",
   "nbconvert_exporter": "python",
   "pygments_lexer": "ipython3",
   "version": "3.11.5"
  }
 },
 "nbformat": 4,
 "nbformat_minor": 5
}
